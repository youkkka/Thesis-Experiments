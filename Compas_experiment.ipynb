{
 "cells": [
  {
   "cell_type": "code",
   "execution_count": 1,
   "id": "13c29759-5465-414f-a089-5d9c4dee3b6d",
   "metadata": {},
   "outputs": [],
   "source": [
    "# Imports\n",
    "import pandas as pd\n",
    "import numpy as np\n",
    "\n",
    "from sklearn.linear_model import LogisticRegression, RidgeClassifier\n",
    "from sklearn.tree import DecisionTreeClassifier\n",
    "from sklearn.ensemble import RandomForestClassifier\n",
    "from sklearn.naive_bayes import GaussianNB\n",
    "\n",
    "from sklearn.model_selection import train_test_split\n",
    "\n",
    "from sklearn.metrics import confusion_matrix, ConfusionMatrixDisplay, classification_report, plot_confusion_matrix, auc, roc_curve, roc_auc_score, average_precision_score\n",
    "\n",
    "# from imblearn.over_sampling import RandomOverSampler, SMOTE\n",
    "\n",
    "# measuring fairness\n",
    "from fairlearn.metrics import (\n",
    "    count,\n",
    "    demographic_parity_difference,\n",
    "    equalized_odds_difference,\n",
    "    false_positive_rate,\n",
    "    false_negative_rate,\n",
    "    MetricFrame,\n",
    "    make_derived_metric,\n",
    "    selection_rate,  \n",
    ")\n",
    "from sklearn.metrics import precision_score\n",
    "from sklearn.calibration import calibration_curve\n",
    "\n",
    "import matplotlib.pyplot as plt\n",
    "\n",
    "from random import sample\n",
    "\n",
    "\n",
    "import warnings\n",
    "warnings.filterwarnings(\"ignore\")"
   ]
  },
  {
   "cell_type": "code",
   "execution_count": 2,
   "id": "23646709-2bf5-4b50-9d62-3395fa45587d",
   "metadata": {},
   "outputs": [],
   "source": [
    "compas_raw = pd.read_csv(\"compas-scores-two-years.csv\")"
   ]
  },
  {
   "cell_type": "code",
   "execution_count": 3,
   "id": "2eb4bde9-9e31-43a4-aa1b-4750e9234daa",
   "metadata": {},
   "outputs": [
    {
     "data": {
      "text/html": [
       "<div>\n",
       "<style scoped>\n",
       "    .dataframe tbody tr th:only-of-type {\n",
       "        vertical-align: middle;\n",
       "    }\n",
       "\n",
       "    .dataframe tbody tr th {\n",
       "        vertical-align: top;\n",
       "    }\n",
       "\n",
       "    .dataframe thead th {\n",
       "        text-align: right;\n",
       "    }\n",
       "</style>\n",
       "<table border=\"1\" class=\"dataframe\">\n",
       "  <thead>\n",
       "    <tr style=\"text-align: right;\">\n",
       "      <th></th>\n",
       "      <th>id</th>\n",
       "      <th>name</th>\n",
       "      <th>first</th>\n",
       "      <th>last</th>\n",
       "      <th>compas_screening_date</th>\n",
       "      <th>sex</th>\n",
       "      <th>dob</th>\n",
       "      <th>age</th>\n",
       "      <th>age_cat</th>\n",
       "      <th>race</th>\n",
       "      <th>...</th>\n",
       "      <th>v_decile_score</th>\n",
       "      <th>v_score_text</th>\n",
       "      <th>v_screening_date</th>\n",
       "      <th>in_custody</th>\n",
       "      <th>out_custody</th>\n",
       "      <th>priors_count.1</th>\n",
       "      <th>start</th>\n",
       "      <th>end</th>\n",
       "      <th>event</th>\n",
       "      <th>two_year_recid</th>\n",
       "    </tr>\n",
       "  </thead>\n",
       "  <tbody>\n",
       "    <tr>\n",
       "      <th>0</th>\n",
       "      <td>1</td>\n",
       "      <td>miguel hernandez</td>\n",
       "      <td>miguel</td>\n",
       "      <td>hernandez</td>\n",
       "      <td>2013-08-14</td>\n",
       "      <td>Male</td>\n",
       "      <td>1947-04-18</td>\n",
       "      <td>69</td>\n",
       "      <td>Greater than 45</td>\n",
       "      <td>Other</td>\n",
       "      <td>...</td>\n",
       "      <td>1</td>\n",
       "      <td>Low</td>\n",
       "      <td>2013-08-14</td>\n",
       "      <td>2014-07-07</td>\n",
       "      <td>2014-07-14</td>\n",
       "      <td>0</td>\n",
       "      <td>0</td>\n",
       "      <td>327</td>\n",
       "      <td>0</td>\n",
       "      <td>0</td>\n",
       "    </tr>\n",
       "    <tr>\n",
       "      <th>1</th>\n",
       "      <td>3</td>\n",
       "      <td>kevon dixon</td>\n",
       "      <td>kevon</td>\n",
       "      <td>dixon</td>\n",
       "      <td>2013-01-27</td>\n",
       "      <td>Male</td>\n",
       "      <td>1982-01-22</td>\n",
       "      <td>34</td>\n",
       "      <td>25 - 45</td>\n",
       "      <td>African-American</td>\n",
       "      <td>...</td>\n",
       "      <td>1</td>\n",
       "      <td>Low</td>\n",
       "      <td>2013-01-27</td>\n",
       "      <td>2013-01-26</td>\n",
       "      <td>2013-02-05</td>\n",
       "      <td>0</td>\n",
       "      <td>9</td>\n",
       "      <td>159</td>\n",
       "      <td>1</td>\n",
       "      <td>1</td>\n",
       "    </tr>\n",
       "    <tr>\n",
       "      <th>2</th>\n",
       "      <td>4</td>\n",
       "      <td>ed philo</td>\n",
       "      <td>ed</td>\n",
       "      <td>philo</td>\n",
       "      <td>2013-04-14</td>\n",
       "      <td>Male</td>\n",
       "      <td>1991-05-14</td>\n",
       "      <td>24</td>\n",
       "      <td>Less than 25</td>\n",
       "      <td>African-American</td>\n",
       "      <td>...</td>\n",
       "      <td>3</td>\n",
       "      <td>Low</td>\n",
       "      <td>2013-04-14</td>\n",
       "      <td>2013-06-16</td>\n",
       "      <td>2013-06-16</td>\n",
       "      <td>4</td>\n",
       "      <td>0</td>\n",
       "      <td>63</td>\n",
       "      <td>0</td>\n",
       "      <td>1</td>\n",
       "    </tr>\n",
       "    <tr>\n",
       "      <th>3</th>\n",
       "      <td>5</td>\n",
       "      <td>marcu brown</td>\n",
       "      <td>marcu</td>\n",
       "      <td>brown</td>\n",
       "      <td>2013-01-13</td>\n",
       "      <td>Male</td>\n",
       "      <td>1993-01-21</td>\n",
       "      <td>23</td>\n",
       "      <td>Less than 25</td>\n",
       "      <td>African-American</td>\n",
       "      <td>...</td>\n",
       "      <td>6</td>\n",
       "      <td>Medium</td>\n",
       "      <td>2013-01-13</td>\n",
       "      <td>NaN</td>\n",
       "      <td>NaN</td>\n",
       "      <td>1</td>\n",
       "      <td>0</td>\n",
       "      <td>1174</td>\n",
       "      <td>0</td>\n",
       "      <td>0</td>\n",
       "    </tr>\n",
       "    <tr>\n",
       "      <th>4</th>\n",
       "      <td>6</td>\n",
       "      <td>bouthy pierrelouis</td>\n",
       "      <td>bouthy</td>\n",
       "      <td>pierrelouis</td>\n",
       "      <td>2013-03-26</td>\n",
       "      <td>Male</td>\n",
       "      <td>1973-01-22</td>\n",
       "      <td>43</td>\n",
       "      <td>25 - 45</td>\n",
       "      <td>Other</td>\n",
       "      <td>...</td>\n",
       "      <td>1</td>\n",
       "      <td>Low</td>\n",
       "      <td>2013-03-26</td>\n",
       "      <td>NaN</td>\n",
       "      <td>NaN</td>\n",
       "      <td>2</td>\n",
       "      <td>0</td>\n",
       "      <td>1102</td>\n",
       "      <td>0</td>\n",
       "      <td>0</td>\n",
       "    </tr>\n",
       "    <tr>\n",
       "      <th>...</th>\n",
       "      <td>...</td>\n",
       "      <td>...</td>\n",
       "      <td>...</td>\n",
       "      <td>...</td>\n",
       "      <td>...</td>\n",
       "      <td>...</td>\n",
       "      <td>...</td>\n",
       "      <td>...</td>\n",
       "      <td>...</td>\n",
       "      <td>...</td>\n",
       "      <td>...</td>\n",
       "      <td>...</td>\n",
       "      <td>...</td>\n",
       "      <td>...</td>\n",
       "      <td>...</td>\n",
       "      <td>...</td>\n",
       "      <td>...</td>\n",
       "      <td>...</td>\n",
       "      <td>...</td>\n",
       "      <td>...</td>\n",
       "      <td>...</td>\n",
       "    </tr>\n",
       "    <tr>\n",
       "      <th>7209</th>\n",
       "      <td>10996</td>\n",
       "      <td>steven butler</td>\n",
       "      <td>steven</td>\n",
       "      <td>butler</td>\n",
       "      <td>2013-11-23</td>\n",
       "      <td>Male</td>\n",
       "      <td>1992-07-17</td>\n",
       "      <td>23</td>\n",
       "      <td>Less than 25</td>\n",
       "      <td>African-American</td>\n",
       "      <td>...</td>\n",
       "      <td>5</td>\n",
       "      <td>Medium</td>\n",
       "      <td>2013-11-23</td>\n",
       "      <td>2013-11-22</td>\n",
       "      <td>2013-11-24</td>\n",
       "      <td>0</td>\n",
       "      <td>1</td>\n",
       "      <td>860</td>\n",
       "      <td>0</td>\n",
       "      <td>0</td>\n",
       "    </tr>\n",
       "    <tr>\n",
       "      <th>7210</th>\n",
       "      <td>10997</td>\n",
       "      <td>malcolm simmons</td>\n",
       "      <td>malcolm</td>\n",
       "      <td>simmons</td>\n",
       "      <td>2014-02-01</td>\n",
       "      <td>Male</td>\n",
       "      <td>1993-03-25</td>\n",
       "      <td>23</td>\n",
       "      <td>Less than 25</td>\n",
       "      <td>African-American</td>\n",
       "      <td>...</td>\n",
       "      <td>5</td>\n",
       "      <td>Medium</td>\n",
       "      <td>2014-02-01</td>\n",
       "      <td>2014-01-31</td>\n",
       "      <td>2014-02-02</td>\n",
       "      <td>0</td>\n",
       "      <td>1</td>\n",
       "      <td>790</td>\n",
       "      <td>0</td>\n",
       "      <td>0</td>\n",
       "    </tr>\n",
       "    <tr>\n",
       "      <th>7211</th>\n",
       "      <td>10999</td>\n",
       "      <td>winston gregory</td>\n",
       "      <td>winston</td>\n",
       "      <td>gregory</td>\n",
       "      <td>2014-01-14</td>\n",
       "      <td>Male</td>\n",
       "      <td>1958-10-01</td>\n",
       "      <td>57</td>\n",
       "      <td>Greater than 45</td>\n",
       "      <td>Other</td>\n",
       "      <td>...</td>\n",
       "      <td>1</td>\n",
       "      <td>Low</td>\n",
       "      <td>2014-01-14</td>\n",
       "      <td>2014-01-13</td>\n",
       "      <td>2014-01-14</td>\n",
       "      <td>0</td>\n",
       "      <td>0</td>\n",
       "      <td>808</td>\n",
       "      <td>0</td>\n",
       "      <td>0</td>\n",
       "    </tr>\n",
       "    <tr>\n",
       "      <th>7212</th>\n",
       "      <td>11000</td>\n",
       "      <td>farrah jean</td>\n",
       "      <td>farrah</td>\n",
       "      <td>jean</td>\n",
       "      <td>2014-03-09</td>\n",
       "      <td>Female</td>\n",
       "      <td>1982-11-17</td>\n",
       "      <td>33</td>\n",
       "      <td>25 - 45</td>\n",
       "      <td>African-American</td>\n",
       "      <td>...</td>\n",
       "      <td>2</td>\n",
       "      <td>Low</td>\n",
       "      <td>2014-03-09</td>\n",
       "      <td>2014-03-08</td>\n",
       "      <td>2014-03-09</td>\n",
       "      <td>3</td>\n",
       "      <td>0</td>\n",
       "      <td>754</td>\n",
       "      <td>0</td>\n",
       "      <td>0</td>\n",
       "    </tr>\n",
       "    <tr>\n",
       "      <th>7213</th>\n",
       "      <td>11001</td>\n",
       "      <td>florencia sanmartin</td>\n",
       "      <td>florencia</td>\n",
       "      <td>sanmartin</td>\n",
       "      <td>2014-06-30</td>\n",
       "      <td>Female</td>\n",
       "      <td>1992-12-18</td>\n",
       "      <td>23</td>\n",
       "      <td>Less than 25</td>\n",
       "      <td>Hispanic</td>\n",
       "      <td>...</td>\n",
       "      <td>4</td>\n",
       "      <td>Low</td>\n",
       "      <td>2014-06-30</td>\n",
       "      <td>2015-03-15</td>\n",
       "      <td>2015-03-15</td>\n",
       "      <td>2</td>\n",
       "      <td>0</td>\n",
       "      <td>258</td>\n",
       "      <td>0</td>\n",
       "      <td>1</td>\n",
       "    </tr>\n",
       "  </tbody>\n",
       "</table>\n",
       "<p>7214 rows × 53 columns</p>\n",
       "</div>"
      ],
      "text/plain": [
       "         id                 name      first         last  \\\n",
       "0         1     miguel hernandez     miguel    hernandez   \n",
       "1         3          kevon dixon      kevon        dixon   \n",
       "2         4             ed philo         ed        philo   \n",
       "3         5          marcu brown      marcu        brown   \n",
       "4         6   bouthy pierrelouis     bouthy  pierrelouis   \n",
       "...     ...                  ...        ...          ...   \n",
       "7209  10996        steven butler     steven       butler   \n",
       "7210  10997      malcolm simmons    malcolm      simmons   \n",
       "7211  10999      winston gregory    winston      gregory   \n",
       "7212  11000          farrah jean     farrah         jean   \n",
       "7213  11001  florencia sanmartin  florencia    sanmartin   \n",
       "\n",
       "     compas_screening_date     sex         dob  age          age_cat  \\\n",
       "0               2013-08-14    Male  1947-04-18   69  Greater than 45   \n",
       "1               2013-01-27    Male  1982-01-22   34          25 - 45   \n",
       "2               2013-04-14    Male  1991-05-14   24     Less than 25   \n",
       "3               2013-01-13    Male  1993-01-21   23     Less than 25   \n",
       "4               2013-03-26    Male  1973-01-22   43          25 - 45   \n",
       "...                    ...     ...         ...  ...              ...   \n",
       "7209            2013-11-23    Male  1992-07-17   23     Less than 25   \n",
       "7210            2014-02-01    Male  1993-03-25   23     Less than 25   \n",
       "7211            2014-01-14    Male  1958-10-01   57  Greater than 45   \n",
       "7212            2014-03-09  Female  1982-11-17   33          25 - 45   \n",
       "7213            2014-06-30  Female  1992-12-18   23     Less than 25   \n",
       "\n",
       "                  race  ...  v_decile_score  v_score_text  v_screening_date  \\\n",
       "0                Other  ...               1           Low        2013-08-14   \n",
       "1     African-American  ...               1           Low        2013-01-27   \n",
       "2     African-American  ...               3           Low        2013-04-14   \n",
       "3     African-American  ...               6        Medium        2013-01-13   \n",
       "4                Other  ...               1           Low        2013-03-26   \n",
       "...                ...  ...             ...           ...               ...   \n",
       "7209  African-American  ...               5        Medium        2013-11-23   \n",
       "7210  African-American  ...               5        Medium        2014-02-01   \n",
       "7211             Other  ...               1           Low        2014-01-14   \n",
       "7212  African-American  ...               2           Low        2014-03-09   \n",
       "7213          Hispanic  ...               4           Low        2014-06-30   \n",
       "\n",
       "      in_custody  out_custody  priors_count.1 start   end event two_year_recid  \n",
       "0     2014-07-07   2014-07-14               0     0   327     0              0  \n",
       "1     2013-01-26   2013-02-05               0     9   159     1              1  \n",
       "2     2013-06-16   2013-06-16               4     0    63     0              1  \n",
       "3            NaN          NaN               1     0  1174     0              0  \n",
       "4            NaN          NaN               2     0  1102     0              0  \n",
       "...          ...          ...             ...   ...   ...   ...            ...  \n",
       "7209  2013-11-22   2013-11-24               0     1   860     0              0  \n",
       "7210  2014-01-31   2014-02-02               0     1   790     0              0  \n",
       "7211  2014-01-13   2014-01-14               0     0   808     0              0  \n",
       "7212  2014-03-08   2014-03-09               3     0   754     0              0  \n",
       "7213  2015-03-15   2015-03-15               2     0   258     0              1  \n",
       "\n",
       "[7214 rows x 53 columns]"
      ]
     },
     "execution_count": 3,
     "metadata": {},
     "output_type": "execute_result"
    }
   ],
   "source": [
    "compas_raw"
   ]
  },
  {
   "cell_type": "code",
   "execution_count": 4,
   "id": "d3503f3a-c94a-4ba2-b4df-db6f437c0b8e",
   "metadata": {},
   "outputs": [
    {
     "data": {
      "text/plain": [
       "id                            0\n",
       "name                          0\n",
       "first                         0\n",
       "last                          0\n",
       "compas_screening_date         0\n",
       "sex                           0\n",
       "dob                           0\n",
       "age                           0\n",
       "age_cat                       0\n",
       "race                          0\n",
       "juv_fel_count                 0\n",
       "decile_score                  0\n",
       "juv_misd_count                0\n",
       "juv_other_count               0\n",
       "priors_count                  0\n",
       "days_b_screening_arrest     307\n",
       "c_jail_in                   307\n",
       "c_jail_out                  307\n",
       "c_case_number                22\n",
       "c_offense_date             1159\n",
       "c_arrest_date              6077\n",
       "c_days_from_compas           22\n",
       "c_charge_degree               0\n",
       "c_charge_desc                29\n",
       "is_recid                      0\n",
       "r_case_number              3743\n",
       "r_charge_degree            3743\n",
       "r_days_from_arrest         4898\n",
       "r_offense_date             3743\n",
       "r_charge_desc              3801\n",
       "r_jail_in                  4898\n",
       "r_jail_out                 4898\n",
       "violent_recid              7214\n",
       "is_violent_recid              0\n",
       "vr_case_number             6395\n",
       "vr_charge_degree           6395\n",
       "vr_offense_date            6395\n",
       "vr_charge_desc             6395\n",
       "type_of_assessment            0\n",
       "decile_score.1                0\n",
       "score_text                    0\n",
       "screening_date                0\n",
       "v_type_of_assessment          0\n",
       "v_decile_score                0\n",
       "v_score_text                  0\n",
       "v_screening_date              0\n",
       "in_custody                  236\n",
       "out_custody                 236\n",
       "priors_count.1                0\n",
       "start                         0\n",
       "end                           0\n",
       "event                         0\n",
       "two_year_recid                0\n",
       "dtype: int64"
      ]
     },
     "execution_count": 4,
     "metadata": {},
     "output_type": "execute_result"
    }
   ],
   "source": [
    "compas_raw.isna().sum()"
   ]
  },
  {
   "cell_type": "code",
   "execution_count": 5,
   "id": "0dc22646-0e23-4ea0-978d-47f1990f890c",
   "metadata": {},
   "outputs": [
    {
     "data": {
      "text/html": [
       "<div>\n",
       "<style scoped>\n",
       "    .dataframe tbody tr th:only-of-type {\n",
       "        vertical-align: middle;\n",
       "    }\n",
       "\n",
       "    .dataframe tbody tr th {\n",
       "        vertical-align: top;\n",
       "    }\n",
       "\n",
       "    .dataframe thead th {\n",
       "        text-align: right;\n",
       "    }\n",
       "</style>\n",
       "<table border=\"1\" class=\"dataframe\">\n",
       "  <thead>\n",
       "    <tr style=\"text-align: right;\">\n",
       "      <th></th>\n",
       "      <th>sex</th>\n",
       "      <th>age</th>\n",
       "      <th>race</th>\n",
       "      <th>priors_count</th>\n",
       "      <th>c_charge_degree</th>\n",
       "      <th>two_year_recid</th>\n",
       "    </tr>\n",
       "  </thead>\n",
       "  <tbody>\n",
       "    <tr>\n",
       "      <th>0</th>\n",
       "      <td>Male</td>\n",
       "      <td>69</td>\n",
       "      <td>Other</td>\n",
       "      <td>0</td>\n",
       "      <td>F</td>\n",
       "      <td>0</td>\n",
       "    </tr>\n",
       "    <tr>\n",
       "      <th>1</th>\n",
       "      <td>Male</td>\n",
       "      <td>34</td>\n",
       "      <td>African-American</td>\n",
       "      <td>0</td>\n",
       "      <td>F</td>\n",
       "      <td>1</td>\n",
       "    </tr>\n",
       "    <tr>\n",
       "      <th>2</th>\n",
       "      <td>Male</td>\n",
       "      <td>24</td>\n",
       "      <td>African-American</td>\n",
       "      <td>4</td>\n",
       "      <td>F</td>\n",
       "      <td>1</td>\n",
       "    </tr>\n",
       "    <tr>\n",
       "      <th>5</th>\n",
       "      <td>Male</td>\n",
       "      <td>44</td>\n",
       "      <td>Other</td>\n",
       "      <td>0</td>\n",
       "      <td>M</td>\n",
       "      <td>0</td>\n",
       "    </tr>\n",
       "    <tr>\n",
       "      <th>6</th>\n",
       "      <td>Male</td>\n",
       "      <td>41</td>\n",
       "      <td>Caucasian</td>\n",
       "      <td>14</td>\n",
       "      <td>F</td>\n",
       "      <td>1</td>\n",
       "    </tr>\n",
       "  </tbody>\n",
       "</table>\n",
       "</div>"
      ],
      "text/plain": [
       "    sex  age              race  priors_count c_charge_degree  two_year_recid\n",
       "0  Male   69             Other             0               F               0\n",
       "1  Male   34  African-American             0               F               1\n",
       "2  Male   24  African-American             4               F               1\n",
       "5  Male   44             Other             0               M               0\n",
       "6  Male   41         Caucasian            14               F               1"
      ]
     },
     "execution_count": 5,
     "metadata": {},
     "output_type": "execute_result"
    }
   ],
   "source": [
    "# filter similar to propublica\n",
    "compas_drop = compas_raw[\n",
    "    (compas_raw[\"days_b_screening_arrest\"] <= 30)\n",
    "    & (compas_raw[\"days_b_screening_arrest\"] >= -30)\n",
    "    & (compas_raw[\"is_recid\"] != -1)\n",
    "    & (compas_raw[\"c_charge_degree\"] != \"O\")\n",
    "    & (compas_raw[\"score_text\"] != \"N/A\")\n",
    "]\n",
    "# select columns\n",
    "compas_drop = compas_drop[[\"sex\", \"age\", \"race\", \"priors_count\", 'c_charge_degree', \"two_year_recid\"]]\n",
    "# cut-off score 5\n",
    "# data[\"decile_score_cutoff\"] = (data[\"decile_score\"] >= 5).astype(int)\n",
    "# inspect\n",
    "compas_drop.head()"
   ]
  },
  {
   "cell_type": "code",
   "execution_count": 6,
   "id": "05757fc7-0c59-4128-95f8-94870857ec17",
   "metadata": {},
   "outputs": [
    {
     "data": {
      "text/plain": [
       "array(['Other', 'African-American', 'Caucasian', 'Hispanic', 'Asian',\n",
       "       'Native American'], dtype=object)"
      ]
     },
     "execution_count": 6,
     "metadata": {},
     "output_type": "execute_result"
    }
   ],
   "source": [
    "compas_drop['race'].unique()"
   ]
  },
  {
   "cell_type": "code",
   "execution_count": 7,
   "id": "cb3fccd7-bbf7-4a08-bdd1-4518b9ffe64d",
   "metadata": {},
   "outputs": [],
   "source": [
    "compas_bin = compas_drop[(compas_drop['race'] == 'African-American') | (compas_drop['race'] == 'Caucasian')]"
   ]
  },
  {
   "cell_type": "code",
   "execution_count": 8,
   "id": "b4d262ba-51b3-44cc-9931-66d07f6d1469",
   "metadata": {},
   "outputs": [
    {
     "data": {
      "text/html": [
       "<div>\n",
       "<style scoped>\n",
       "    .dataframe tbody tr th:only-of-type {\n",
       "        vertical-align: middle;\n",
       "    }\n",
       "\n",
       "    .dataframe tbody tr th {\n",
       "        vertical-align: top;\n",
       "    }\n",
       "\n",
       "    .dataframe thead th {\n",
       "        text-align: right;\n",
       "    }\n",
       "</style>\n",
       "<table border=\"1\" class=\"dataframe\">\n",
       "  <thead>\n",
       "    <tr style=\"text-align: right;\">\n",
       "      <th></th>\n",
       "      <th>sex</th>\n",
       "      <th>age</th>\n",
       "      <th>race</th>\n",
       "      <th>priors_count</th>\n",
       "      <th>c_charge_degree</th>\n",
       "      <th>two_year_recid</th>\n",
       "    </tr>\n",
       "  </thead>\n",
       "  <tbody>\n",
       "    <tr>\n",
       "      <th>0</th>\n",
       "      <td>Male</td>\n",
       "      <td>34</td>\n",
       "      <td>African-American</td>\n",
       "      <td>0</td>\n",
       "      <td>F</td>\n",
       "      <td>1</td>\n",
       "    </tr>\n",
       "    <tr>\n",
       "      <th>1</th>\n",
       "      <td>Male</td>\n",
       "      <td>24</td>\n",
       "      <td>African-American</td>\n",
       "      <td>4</td>\n",
       "      <td>F</td>\n",
       "      <td>1</td>\n",
       "    </tr>\n",
       "    <tr>\n",
       "      <th>2</th>\n",
       "      <td>Male</td>\n",
       "      <td>41</td>\n",
       "      <td>Caucasian</td>\n",
       "      <td>14</td>\n",
       "      <td>F</td>\n",
       "      <td>1</td>\n",
       "    </tr>\n",
       "    <tr>\n",
       "      <th>3</th>\n",
       "      <td>Female</td>\n",
       "      <td>39</td>\n",
       "      <td>Caucasian</td>\n",
       "      <td>0</td>\n",
       "      <td>M</td>\n",
       "      <td>0</td>\n",
       "    </tr>\n",
       "    <tr>\n",
       "      <th>4</th>\n",
       "      <td>Male</td>\n",
       "      <td>27</td>\n",
       "      <td>Caucasian</td>\n",
       "      <td>0</td>\n",
       "      <td>F</td>\n",
       "      <td>0</td>\n",
       "    </tr>\n",
       "    <tr>\n",
       "      <th>...</th>\n",
       "      <td>...</td>\n",
       "      <td>...</td>\n",
       "      <td>...</td>\n",
       "      <td>...</td>\n",
       "      <td>...</td>\n",
       "      <td>...</td>\n",
       "    </tr>\n",
       "    <tr>\n",
       "      <th>5273</th>\n",
       "      <td>Male</td>\n",
       "      <td>30</td>\n",
       "      <td>African-American</td>\n",
       "      <td>0</td>\n",
       "      <td>M</td>\n",
       "      <td>1</td>\n",
       "    </tr>\n",
       "    <tr>\n",
       "      <th>5274</th>\n",
       "      <td>Male</td>\n",
       "      <td>20</td>\n",
       "      <td>African-American</td>\n",
       "      <td>0</td>\n",
       "      <td>F</td>\n",
       "      <td>0</td>\n",
       "    </tr>\n",
       "    <tr>\n",
       "      <th>5275</th>\n",
       "      <td>Male</td>\n",
       "      <td>23</td>\n",
       "      <td>African-American</td>\n",
       "      <td>0</td>\n",
       "      <td>F</td>\n",
       "      <td>0</td>\n",
       "    </tr>\n",
       "    <tr>\n",
       "      <th>5276</th>\n",
       "      <td>Male</td>\n",
       "      <td>23</td>\n",
       "      <td>African-American</td>\n",
       "      <td>0</td>\n",
       "      <td>F</td>\n",
       "      <td>0</td>\n",
       "    </tr>\n",
       "    <tr>\n",
       "      <th>5277</th>\n",
       "      <td>Female</td>\n",
       "      <td>33</td>\n",
       "      <td>African-American</td>\n",
       "      <td>3</td>\n",
       "      <td>M</td>\n",
       "      <td>0</td>\n",
       "    </tr>\n",
       "  </tbody>\n",
       "</table>\n",
       "<p>5278 rows × 6 columns</p>\n",
       "</div>"
      ],
      "text/plain": [
       "         sex  age              race  priors_count c_charge_degree  \\\n",
       "0       Male   34  African-American             0               F   \n",
       "1       Male   24  African-American             4               F   \n",
       "2       Male   41         Caucasian            14               F   \n",
       "3     Female   39         Caucasian             0               M   \n",
       "4       Male   27         Caucasian             0               F   \n",
       "...      ...  ...               ...           ...             ...   \n",
       "5273    Male   30  African-American             0               M   \n",
       "5274    Male   20  African-American             0               F   \n",
       "5275    Male   23  African-American             0               F   \n",
       "5276    Male   23  African-American             0               F   \n",
       "5277  Female   33  African-American             3               M   \n",
       "\n",
       "      two_year_recid  \n",
       "0                  1  \n",
       "1                  1  \n",
       "2                  1  \n",
       "3                  0  \n",
       "4                  0  \n",
       "...              ...  \n",
       "5273               1  \n",
       "5274               0  \n",
       "5275               0  \n",
       "5276               0  \n",
       "5277               0  \n",
       "\n",
       "[5278 rows x 6 columns]"
      ]
     },
     "execution_count": 8,
     "metadata": {},
     "output_type": "execute_result"
    }
   ],
   "source": [
    "compas_bin.reset_index(drop=True)"
   ]
  },
  {
   "cell_type": "code",
   "execution_count": 9,
   "id": "b4e6aaa2-7a8c-4a98-ac23-a799e65b78ef",
   "metadata": {},
   "outputs": [
    {
     "data": {
      "text/plain": [
       "0    2795\n",
       "1    2483\n",
       "Name: two_year_recid, dtype: int64"
      ]
     },
     "execution_count": 9,
     "metadata": {},
     "output_type": "execute_result"
    }
   ],
   "source": [
    "compas_bin['two_year_recid'].value_counts()"
   ]
  },
  {
   "cell_type": "code",
   "execution_count": 10,
   "id": "f0e6f1f6-2b23-49d5-a434-acac66a66362",
   "metadata": {},
   "outputs": [
    {
     "data": {
      "text/html": [
       "<div>\n",
       "<style scoped>\n",
       "    .dataframe tbody tr th:only-of-type {\n",
       "        vertical-align: middle;\n",
       "    }\n",
       "\n",
       "    .dataframe tbody tr th {\n",
       "        vertical-align: top;\n",
       "    }\n",
       "\n",
       "    .dataframe thead th {\n",
       "        text-align: right;\n",
       "    }\n",
       "</style>\n",
       "<table border=\"1\" class=\"dataframe\">\n",
       "  <thead>\n",
       "    <tr style=\"text-align: right;\">\n",
       "      <th></th>\n",
       "      <th></th>\n",
       "      <th>0</th>\n",
       "    </tr>\n",
       "    <tr>\n",
       "      <th>race</th>\n",
       "      <th>two_year_recid</th>\n",
       "      <th></th>\n",
       "    </tr>\n",
       "  </thead>\n",
       "  <tbody>\n",
       "    <tr>\n",
       "      <th rowspan=\"2\" valign=\"top\">African-American</th>\n",
       "      <th>1</th>\n",
       "      <td>1661</td>\n",
       "    </tr>\n",
       "    <tr>\n",
       "      <th>0</th>\n",
       "      <td>1514</td>\n",
       "    </tr>\n",
       "    <tr>\n",
       "      <th rowspan=\"2\" valign=\"top\">Caucasian</th>\n",
       "      <th>0</th>\n",
       "      <td>1281</td>\n",
       "    </tr>\n",
       "    <tr>\n",
       "      <th>1</th>\n",
       "      <td>822</td>\n",
       "    </tr>\n",
       "  </tbody>\n",
       "</table>\n",
       "</div>"
      ],
      "text/plain": [
       "                                    0\n",
       "race             two_year_recid      \n",
       "African-American 1               1661\n",
       "                 0               1514\n",
       "Caucasian        0               1281\n",
       "                 1                822"
      ]
     },
     "execution_count": 10,
     "metadata": {},
     "output_type": "execute_result"
    }
   ],
   "source": [
    "compas_bin.value_counts(['race', 'two_year_recid']).to_frame()"
   ]
  },
  {
   "cell_type": "code",
   "execution_count": 11,
   "id": "e92d261a-2fa5-40cf-9a12-3a118d61c39f",
   "metadata": {},
   "outputs": [],
   "source": [
    "data = compas_bin"
   ]
  },
  {
   "cell_type": "markdown",
   "id": "340518f7-2990-487e-94f5-31cc310618a9",
   "metadata": {},
   "source": [
    "## Base rate"
   ]
  },
  {
   "cell_type": "code",
   "execution_count": 12,
   "id": "8868c594-fcb3-4073-b4e7-0977f52fee78",
   "metadata": {},
   "outputs": [
    {
     "data": {
      "text/html": [
       "<div>\n",
       "<style scoped>\n",
       "    .dataframe tbody tr th:only-of-type {\n",
       "        vertical-align: middle;\n",
       "    }\n",
       "\n",
       "    .dataframe tbody tr th {\n",
       "        vertical-align: top;\n",
       "    }\n",
       "\n",
       "    .dataframe thead th {\n",
       "        text-align: right;\n",
       "    }\n",
       "</style>\n",
       "<table border=\"1\" class=\"dataframe\">\n",
       "  <thead>\n",
       "    <tr style=\"text-align: right;\">\n",
       "      <th></th>\n",
       "      <th>base rate</th>\n",
       "    </tr>\n",
       "    <tr>\n",
       "      <th>race</th>\n",
       "      <th></th>\n",
       "    </tr>\n",
       "  </thead>\n",
       "  <tbody>\n",
       "    <tr>\n",
       "      <th>African-American</th>\n",
       "      <td>0.52315</td>\n",
       "    </tr>\n",
       "    <tr>\n",
       "      <th>Caucasian</th>\n",
       "      <td>0.39087</td>\n",
       "    </tr>\n",
       "  </tbody>\n",
       "</table>\n",
       "</div>"
      ],
      "text/plain": [
       "                 base rate\n",
       "race                      \n",
       "African-American   0.52315\n",
       "Caucasian          0.39087"
      ]
     },
     "metadata": {},
     "output_type": "display_data"
    },
    {
     "name": "stdout",
     "output_type": "stream",
     "text": [
      "base rate diff: 0.13\n"
     ]
    }
   ],
   "source": [
    "# by choosing y_pred to be ground truth instead of predictions, we can easily compute the base rate in the data\n",
    "mf = MetricFrame(\n",
    "    metrics={\"base rate\": selection_rate},\n",
    "    y_true=data[\"two_year_recid\"],  # y_true is ignored\n",
    "    y_pred=data[\"two_year_recid\"],\n",
    "    sensitive_features=data[\"race\"],\n",
    ")\n",
    "display(mf.by_group)\n",
    "\n",
    "# summarize demographic parity as the max difference between groups\n",
    "print(\"base rate diff: %.2f\" % mf.difference(method=\"between_groups\"))"
   ]
  },
  {
   "cell_type": "code",
   "execution_count": 13,
   "id": "df09a65d-dce5-4fe4-a097-889b2ea28860",
   "metadata": {},
   "outputs": [],
   "source": [
    "data_encoded = pd.get_dummies(data)"
   ]
  },
  {
   "cell_type": "code",
   "execution_count": 14,
   "id": "70796ce8-de57-4743-a98f-16947188fd3e",
   "metadata": {},
   "outputs": [],
   "source": [
    "data['sex'] = (data['sex'] == 'Male').astype(int) # Male = 1, Female = 0"
   ]
  },
  {
   "cell_type": "code",
   "execution_count": 15,
   "id": "6eb34969-dcdf-4cd9-b563-1705529737be",
   "metadata": {},
   "outputs": [],
   "source": [
    "data['race'] = (data['race'] == 'Caucasian').astype(int) # Caucasian = 1, African-American = 0"
   ]
  },
  {
   "cell_type": "code",
   "execution_count": 16,
   "id": "25ca3fc5-ba87-4905-aa74-c3bd238449f7",
   "metadata": {},
   "outputs": [],
   "source": [
    "data['c_charge_degree'] = (data['c_charge_degree'] == 'F').astype(int) # F = 1, M = 0"
   ]
  },
  {
   "cell_type": "code",
   "execution_count": 17,
   "id": "6357280e-0a29-4674-a462-e32f49093e82",
   "metadata": {},
   "outputs": [
    {
     "data": {
      "text/plain": [
       "sex                 2\n",
       "age                62\n",
       "race                2\n",
       "priors_count       36\n",
       "c_charge_degree     2\n",
       "two_year_recid      2\n",
       "dtype: int64"
      ]
     },
     "execution_count": 17,
     "metadata": {},
     "output_type": "execute_result"
    }
   ],
   "source": [
    "data.nunique() # Check if there are any other values"
   ]
  },
  {
   "cell_type": "code",
   "execution_count": 18,
   "id": "0c632385-8962-4caa-8ec1-9f64c2ffacb6",
   "metadata": {},
   "outputs": [
    {
     "data": {
      "text/html": [
       "<div>\n",
       "<style scoped>\n",
       "    .dataframe tbody tr th:only-of-type {\n",
       "        vertical-align: middle;\n",
       "    }\n",
       "\n",
       "    .dataframe tbody tr th {\n",
       "        vertical-align: top;\n",
       "    }\n",
       "\n",
       "    .dataframe thead th {\n",
       "        text-align: right;\n",
       "    }\n",
       "</style>\n",
       "<table border=\"1\" class=\"dataframe\">\n",
       "  <thead>\n",
       "    <tr style=\"text-align: right;\">\n",
       "      <th></th>\n",
       "      <th>sex</th>\n",
       "      <th>age</th>\n",
       "      <th>race</th>\n",
       "      <th>priors_count</th>\n",
       "      <th>c_charge_degree</th>\n",
       "      <th>two_year_recid</th>\n",
       "    </tr>\n",
       "  </thead>\n",
       "  <tbody>\n",
       "    <tr>\n",
       "      <th>1</th>\n",
       "      <td>1</td>\n",
       "      <td>34</td>\n",
       "      <td>0</td>\n",
       "      <td>0</td>\n",
       "      <td>1</td>\n",
       "      <td>1</td>\n",
       "    </tr>\n",
       "    <tr>\n",
       "      <th>2</th>\n",
       "      <td>1</td>\n",
       "      <td>24</td>\n",
       "      <td>0</td>\n",
       "      <td>4</td>\n",
       "      <td>1</td>\n",
       "      <td>1</td>\n",
       "    </tr>\n",
       "    <tr>\n",
       "      <th>6</th>\n",
       "      <td>1</td>\n",
       "      <td>41</td>\n",
       "      <td>1</td>\n",
       "      <td>14</td>\n",
       "      <td>1</td>\n",
       "      <td>1</td>\n",
       "    </tr>\n",
       "    <tr>\n",
       "      <th>8</th>\n",
       "      <td>0</td>\n",
       "      <td>39</td>\n",
       "      <td>1</td>\n",
       "      <td>0</td>\n",
       "      <td>0</td>\n",
       "      <td>0</td>\n",
       "    </tr>\n",
       "    <tr>\n",
       "      <th>10</th>\n",
       "      <td>1</td>\n",
       "      <td>27</td>\n",
       "      <td>1</td>\n",
       "      <td>0</td>\n",
       "      <td>1</td>\n",
       "      <td>0</td>\n",
       "    </tr>\n",
       "    <tr>\n",
       "      <th>...</th>\n",
       "      <td>...</td>\n",
       "      <td>...</td>\n",
       "      <td>...</td>\n",
       "      <td>...</td>\n",
       "      <td>...</td>\n",
       "      <td>...</td>\n",
       "    </tr>\n",
       "    <tr>\n",
       "      <th>7207</th>\n",
       "      <td>1</td>\n",
       "      <td>30</td>\n",
       "      <td>0</td>\n",
       "      <td>0</td>\n",
       "      <td>0</td>\n",
       "      <td>1</td>\n",
       "    </tr>\n",
       "    <tr>\n",
       "      <th>7208</th>\n",
       "      <td>1</td>\n",
       "      <td>20</td>\n",
       "      <td>0</td>\n",
       "      <td>0</td>\n",
       "      <td>1</td>\n",
       "      <td>0</td>\n",
       "    </tr>\n",
       "    <tr>\n",
       "      <th>7209</th>\n",
       "      <td>1</td>\n",
       "      <td>23</td>\n",
       "      <td>0</td>\n",
       "      <td>0</td>\n",
       "      <td>1</td>\n",
       "      <td>0</td>\n",
       "    </tr>\n",
       "    <tr>\n",
       "      <th>7210</th>\n",
       "      <td>1</td>\n",
       "      <td>23</td>\n",
       "      <td>0</td>\n",
       "      <td>0</td>\n",
       "      <td>1</td>\n",
       "      <td>0</td>\n",
       "    </tr>\n",
       "    <tr>\n",
       "      <th>7212</th>\n",
       "      <td>0</td>\n",
       "      <td>33</td>\n",
       "      <td>0</td>\n",
       "      <td>3</td>\n",
       "      <td>0</td>\n",
       "      <td>0</td>\n",
       "    </tr>\n",
       "  </tbody>\n",
       "</table>\n",
       "<p>5278 rows × 6 columns</p>\n",
       "</div>"
      ],
      "text/plain": [
       "      sex  age  race  priors_count  c_charge_degree  two_year_recid\n",
       "1       1   34     0             0                1               1\n",
       "2       1   24     0             4                1               1\n",
       "6       1   41     1            14                1               1\n",
       "8       0   39     1             0                0               0\n",
       "10      1   27     1             0                1               0\n",
       "...   ...  ...   ...           ...              ...             ...\n",
       "7207    1   30     0             0                0               1\n",
       "7208    1   20     0             0                1               0\n",
       "7209    1   23     0             0                1               0\n",
       "7210    1   23     0             0                1               0\n",
       "7212    0   33     0             3                0               0\n",
       "\n",
       "[5278 rows x 6 columns]"
      ]
     },
     "execution_count": 18,
     "metadata": {},
     "output_type": "execute_result"
    }
   ],
   "source": [
    "data"
   ]
  },
  {
   "cell_type": "code",
   "execution_count": 19,
   "id": "9b45f665-5795-43a4-baca-17592295ccf5",
   "metadata": {},
   "outputs": [],
   "source": [
    "y = data['two_year_recid']\n",
    "X = data.drop(columns=['two_year_recid'])"
   ]
  },
  {
   "cell_type": "code",
   "execution_count": 20,
   "id": "d77dfad6-a933-4007-ba21-5ffc0b83953a",
   "metadata": {},
   "outputs": [],
   "source": [
    "# Train test split\n",
    "rs = 0 # Random State\n",
    "\n",
    "trainset, testset = train_test_split(data, test_size=0.25, random_state=rs)"
   ]
  },
  {
   "cell_type": "code",
   "execution_count": 21,
   "id": "e806f1fc-7464-4072-a359-e286c472fe19",
   "metadata": {},
   "outputs": [
    {
     "name": "stdout",
     "output_type": "stream",
     "text": [
      "Class rate in train set: 0.4768\n"
     ]
    }
   ],
   "source": [
    "crtr = trainset['two_year_recid'].sum() / len(trainset) # class rate in train set\n",
    "print('Class rate in train set: %.4f' % crtr)"
   ]
  },
  {
   "cell_type": "code",
   "execution_count": 22,
   "id": "505bded4-0ba6-427c-be7e-726390c3e1f1",
   "metadata": {},
   "outputs": [
    {
     "name": "stdout",
     "output_type": "stream",
     "text": [
      "Group rate in train set: 0.3982\n"
     ]
    }
   ],
   "source": [
    "grtr = trainset['race'].sum() / len(trainset) # group rate in train set\n",
    "print('Group rate in train set: %.4f' % grtr)"
   ]
  },
  {
   "cell_type": "code",
   "execution_count": 23,
   "id": "898dcbd6-36fa-4870-9b05-42c8bb4c4844",
   "metadata": {},
   "outputs": [
    {
     "name": "stdout",
     "output_type": "stream",
     "text": [
      "Class rate in test set: 0.4515\n"
     ]
    }
   ],
   "source": [
    "crte = testset['two_year_recid'].sum() / len(testset) # class rate in test set\n",
    "print('Class rate in test set: %.4f' % crte)"
   ]
  },
  {
   "cell_type": "code",
   "execution_count": 24,
   "id": "5e470ba6-23d4-4310-9250-89c0941e1c29",
   "metadata": {},
   "outputs": [
    {
     "name": "stdout",
     "output_type": "stream",
     "text": [
      "Group rate in train set: 0.3992\n"
     ]
    }
   ],
   "source": [
    "grte = testset['race'].sum() / len(testset) # group rate in test set\n",
    "print('Group rate in train set: %.4f' % grte)"
   ]
  },
  {
   "cell_type": "markdown",
   "id": "029d0495-afa0-4e55-8a07-f47279963e46",
   "metadata": {},
   "source": [
    "## Naive oversampling"
   ]
  },
  {
   "cell_type": "code",
   "execution_count": 25,
   "id": "1f02ee03-13dd-4610-869e-b2a6d6ac0911",
   "metadata": {},
   "outputs": [],
   "source": [
    "data00 = trainset[(trainset['race'] == 0) & (trainset['two_year_recid'] == 0)] # African-American, no recid\n",
    "data01 = trainset[(trainset['race'] == 0) & (trainset['two_year_recid'] == 1)] # African-American, recid\n",
    "data10 = trainset[(trainset['race'] == 1) & (trainset['two_year_recid'] == 0)] # Caucasian, no recid\n",
    "data11 = trainset[(trainset['race'] == 1) & (trainset['two_year_recid'] == 1)] # Causacian, recid"
   ]
  },
  {
   "cell_type": "code",
   "execution_count": 26,
   "id": "49f97e77-ed84-43c0-bc58-a477106bb35d",
   "metadata": {},
   "outputs": [],
   "source": [
    "datas = [data00, data01, data10, data11]"
   ]
  },
  {
   "cell_type": "code",
   "execution_count": 27,
   "id": "9bd746b2-4a07-4694-9aef-2a4f2f2d453f",
   "metadata": {},
   "outputs": [],
   "source": [
    "m = len(max(datas, key=len))"
   ]
  },
  {
   "cell_type": "code",
   "execution_count": 28,
   "id": "c332a339-4756-483e-ab30-fd2911e7778b",
   "metadata": {},
   "outputs": [],
   "source": [
    "df = max(datas, key=len)\n",
    "datass = [d for d in datas if d is not df]"
   ]
  },
  {
   "cell_type": "code",
   "execution_count": 29,
   "id": "e09ddecc-ef3e-443e-9004-bd14090b66c6",
   "metadata": {},
   "outputs": [
    {
     "name": "stdout",
     "output_type": "stream",
     "text": [
      "1115\n",
      "1267\n",
      "956\n",
      "1267\n",
      "620\n",
      "1267\n"
     ]
    }
   ],
   "source": [
    "for d in datass:\n",
    "    # print(len(d))\n",
    "    while len(d) < m - 100:\n",
    "        d = d.append(d.sample(100))\n",
    "    while len(d) < m:\n",
    "        d = d.append(d.sample())\n",
    "    # print(len(d))\n",
    "    df = df.append(d)"
   ]
  },
  {
   "cell_type": "code",
   "execution_count": 30,
   "id": "7f8deaaa-a361-4b4a-bd6a-98396e4b5b9f",
   "metadata": {},
   "outputs": [],
   "source": [
    "# while len(data00) < m - 100:\n",
    "#     data00 = data00.append(data00.sample(100))\n",
    "# while len(data00) < m:\n",
    "#     data00 = data00.append(data00.sample())\n",
    "# print(len(data00))"
   ]
  },
  {
   "cell_type": "code",
   "execution_count": 31,
   "id": "c2bf5a46-7a10-4f2f-87b7-fa4e6688b803",
   "metadata": {},
   "outputs": [],
   "source": [
    "# while len(data01) < m - 100:\n",
    "#     data01 = data01.append(data01.sample(100))\n",
    "# while len(data01) < m:\n",
    "#     data01 = data01.append(data01.sample())\n",
    "# print(len(data01))"
   ]
  },
  {
   "cell_type": "code",
   "execution_count": 32,
   "id": "08a75539-a7e2-431c-8ebe-f394d2edfed0",
   "metadata": {},
   "outputs": [],
   "source": [
    "# while len(data10) < m - 100:\n",
    "#     data10 = data10.append(data10.sample(100))\n",
    "# while len(data10) < m:\n",
    "#     data10 = data10.append(data10.sample())\n",
    "# print(len(data10))"
   ]
  },
  {
   "cell_type": "code",
   "execution_count": 33,
   "id": "776aaf37-54dd-413e-a0bc-44a1273ba95e",
   "metadata": {},
   "outputs": [],
   "source": [
    "# while len(data11) < m - 100:\n",
    "#     data11 = data11.append(data11.sample(100))\n",
    "# while len(data11) < m:\n",
    "#     data11 = data11.append(data11.sample())\n",
    "# print(len(data11))"
   ]
  },
  {
   "cell_type": "code",
   "execution_count": 34,
   "id": "cf456b77-02ef-4d9a-ad73-117d68a1023c",
   "metadata": {},
   "outputs": [],
   "source": [
    "# newdata = data00.append(data01).append(data10).append(data11)\n",
    "newdata = df\n",
    "newdata = newdata.reset_index(drop=True)"
   ]
  },
  {
   "cell_type": "code",
   "execution_count": 35,
   "id": "a496a10e-41b1-469a-9032-107838eed94b",
   "metadata": {},
   "outputs": [
    {
     "data": {
      "text/html": [
       "<div>\n",
       "<style scoped>\n",
       "    .dataframe tbody tr th:only-of-type {\n",
       "        vertical-align: middle;\n",
       "    }\n",
       "\n",
       "    .dataframe tbody tr th {\n",
       "        vertical-align: top;\n",
       "    }\n",
       "\n",
       "    .dataframe thead th {\n",
       "        text-align: right;\n",
       "    }\n",
       "</style>\n",
       "<table border=\"1\" class=\"dataframe\">\n",
       "  <thead>\n",
       "    <tr style=\"text-align: right;\">\n",
       "      <th></th>\n",
       "      <th>sex</th>\n",
       "      <th>age</th>\n",
       "      <th>race</th>\n",
       "      <th>priors_count</th>\n",
       "      <th>c_charge_degree</th>\n",
       "      <th>two_year_recid</th>\n",
       "    </tr>\n",
       "  </thead>\n",
       "  <tbody>\n",
       "    <tr>\n",
       "      <th>0</th>\n",
       "      <td>1</td>\n",
       "      <td>24</td>\n",
       "      <td>0</td>\n",
       "      <td>4</td>\n",
       "      <td>1</td>\n",
       "      <td>1</td>\n",
       "    </tr>\n",
       "    <tr>\n",
       "      <th>1</th>\n",
       "      <td>1</td>\n",
       "      <td>41</td>\n",
       "      <td>0</td>\n",
       "      <td>18</td>\n",
       "      <td>0</td>\n",
       "      <td>1</td>\n",
       "    </tr>\n",
       "    <tr>\n",
       "      <th>2</th>\n",
       "      <td>1</td>\n",
       "      <td>27</td>\n",
       "      <td>0</td>\n",
       "      <td>9</td>\n",
       "      <td>1</td>\n",
       "      <td>1</td>\n",
       "    </tr>\n",
       "    <tr>\n",
       "      <th>3</th>\n",
       "      <td>1</td>\n",
       "      <td>30</td>\n",
       "      <td>0</td>\n",
       "      <td>11</td>\n",
       "      <td>0</td>\n",
       "      <td>1</td>\n",
       "    </tr>\n",
       "    <tr>\n",
       "      <th>4</th>\n",
       "      <td>1</td>\n",
       "      <td>20</td>\n",
       "      <td>0</td>\n",
       "      <td>0</td>\n",
       "      <td>0</td>\n",
       "      <td>1</td>\n",
       "    </tr>\n",
       "    <tr>\n",
       "      <th>...</th>\n",
       "      <td>...</td>\n",
       "      <td>...</td>\n",
       "      <td>...</td>\n",
       "      <td>...</td>\n",
       "      <td>...</td>\n",
       "      <td>...</td>\n",
       "    </tr>\n",
       "    <tr>\n",
       "      <th>5063</th>\n",
       "      <td>1</td>\n",
       "      <td>68</td>\n",
       "      <td>1</td>\n",
       "      <td>7</td>\n",
       "      <td>1</td>\n",
       "      <td>1</td>\n",
       "    </tr>\n",
       "    <tr>\n",
       "      <th>5064</th>\n",
       "      <td>1</td>\n",
       "      <td>32</td>\n",
       "      <td>1</td>\n",
       "      <td>0</td>\n",
       "      <td>0</td>\n",
       "      <td>1</td>\n",
       "    </tr>\n",
       "    <tr>\n",
       "      <th>5065</th>\n",
       "      <td>1</td>\n",
       "      <td>69</td>\n",
       "      <td>1</td>\n",
       "      <td>0</td>\n",
       "      <td>0</td>\n",
       "      <td>1</td>\n",
       "    </tr>\n",
       "    <tr>\n",
       "      <th>5066</th>\n",
       "      <td>1</td>\n",
       "      <td>46</td>\n",
       "      <td>1</td>\n",
       "      <td>6</td>\n",
       "      <td>1</td>\n",
       "      <td>1</td>\n",
       "    </tr>\n",
       "    <tr>\n",
       "      <th>5067</th>\n",
       "      <td>1</td>\n",
       "      <td>24</td>\n",
       "      <td>1</td>\n",
       "      <td>3</td>\n",
       "      <td>0</td>\n",
       "      <td>1</td>\n",
       "    </tr>\n",
       "  </tbody>\n",
       "</table>\n",
       "<p>5068 rows × 6 columns</p>\n",
       "</div>"
      ],
      "text/plain": [
       "      sex  age  race  priors_count  c_charge_degree  two_year_recid\n",
       "0       1   24     0             4                1               1\n",
       "1       1   41     0            18                0               1\n",
       "2       1   27     0             9                1               1\n",
       "3       1   30     0            11                0               1\n",
       "4       1   20     0             0                0               1\n",
       "...   ...  ...   ...           ...              ...             ...\n",
       "5063    1   68     1             7                1               1\n",
       "5064    1   32     1             0                0               1\n",
       "5065    1   69     1             0                0               1\n",
       "5066    1   46     1             6                1               1\n",
       "5067    1   24     1             3                0               1\n",
       "\n",
       "[5068 rows x 6 columns]"
      ]
     },
     "execution_count": 35,
     "metadata": {},
     "output_type": "execute_result"
    }
   ],
   "source": [
    "newdata"
   ]
  },
  {
   "cell_type": "code",
   "execution_count": 36,
   "id": "7241a7fb-71d7-4d33-bdc6-aa172fc9ddce",
   "metadata": {},
   "outputs": [
    {
     "data": {
      "text/html": [
       "<div>\n",
       "<style scoped>\n",
       "    .dataframe tbody tr th:only-of-type {\n",
       "        vertical-align: middle;\n",
       "    }\n",
       "\n",
       "    .dataframe tbody tr th {\n",
       "        vertical-align: top;\n",
       "    }\n",
       "\n",
       "    .dataframe thead th {\n",
       "        text-align: right;\n",
       "    }\n",
       "</style>\n",
       "<table border=\"1\" class=\"dataframe\">\n",
       "  <thead>\n",
       "    <tr style=\"text-align: right;\">\n",
       "      <th></th>\n",
       "      <th>base rate</th>\n",
       "    </tr>\n",
       "    <tr>\n",
       "      <th>race</th>\n",
       "      <th></th>\n",
       "    </tr>\n",
       "  </thead>\n",
       "  <tbody>\n",
       "    <tr>\n",
       "      <th>0</th>\n",
       "      <td>0.5</td>\n",
       "    </tr>\n",
       "    <tr>\n",
       "      <th>1</th>\n",
       "      <td>0.5</td>\n",
       "    </tr>\n",
       "  </tbody>\n",
       "</table>\n",
       "</div>"
      ],
      "text/plain": [
       "     base rate\n",
       "race          \n",
       "0          0.5\n",
       "1          0.5"
      ]
     },
     "metadata": {},
     "output_type": "display_data"
    },
    {
     "name": "stdout",
     "output_type": "stream",
     "text": [
      "base rate diff: 0.00\n"
     ]
    }
   ],
   "source": [
    "# by choosing y_pred to be ground truth instead of predictions, we can easily compute the base rate in the data\n",
    "mf = MetricFrame(\n",
    "    metrics={\"base rate\": selection_rate},\n",
    "    y_true=newdata[\"two_year_recid\"],  # y_true is ignored\n",
    "    y_pred=newdata[\"two_year_recid\"],\n",
    "    sensitive_features=newdata[\"race\"],\n",
    ")\n",
    "display(mf.by_group)\n",
    "\n",
    "# summarize demographic parity as the max difference between groups\n",
    "print(\"base rate diff: %.2f\" % mf.difference(method=\"between_groups\"))"
   ]
  },
  {
   "cell_type": "code",
   "execution_count": 37,
   "id": "c848ca82-8dea-4d27-bd35-2a5976babc7f",
   "metadata": {},
   "outputs": [
    {
     "data": {
      "text/plain": [
       "0.5"
      ]
     },
     "execution_count": 37,
     "metadata": {},
     "output_type": "execute_result"
    }
   ],
   "source": [
    "newdata['two_year_recid'].sum() / len(newdata) #class imbalance"
   ]
  },
  {
   "cell_type": "code",
   "execution_count": 38,
   "id": "ddaf5a98-45ea-490e-8bf5-ed4ecd448eb7",
   "metadata": {},
   "outputs": [
    {
     "data": {
      "text/plain": [
       "0.5"
      ]
     },
     "execution_count": 38,
     "metadata": {},
     "output_type": "execute_result"
    }
   ],
   "source": [
    "newdata['race'].sum() / len(newdata) #group imbalance"
   ]
  },
  {
   "cell_type": "markdown",
   "id": "c7d52c97-51f9-42c1-b886-a828de3f2f07",
   "metadata": {},
   "source": [
    "### Uncorrected data set"
   ]
  },
  {
   "cell_type": "code",
   "execution_count": 39,
   "id": "caca23ab-f03f-45b6-927d-31de090f2135",
   "metadata": {},
   "outputs": [],
   "source": [
    "y_train1 = trainset['two_year_recid']\n",
    "X_train1 = trainset.drop(columns=['two_year_recid'])"
   ]
  },
  {
   "cell_type": "markdown",
   "id": "a66ef94d-ff74-4146-845e-09373245f863",
   "metadata": {},
   "source": [
    "### Corrected data set"
   ]
  },
  {
   "cell_type": "code",
   "execution_count": 40,
   "id": "16965543-36a4-4080-b272-c090cdfad1a6",
   "metadata": {},
   "outputs": [],
   "source": [
    "y_train2 = newdata['two_year_recid']\n",
    "X_train2 = newdata.drop(columns=['two_year_recid'])"
   ]
  },
  {
   "cell_type": "markdown",
   "id": "a5711716-f1a0-482e-b1e3-8da4e21b41e1",
   "metadata": {},
   "source": [
    "### Test set"
   ]
  },
  {
   "cell_type": "code",
   "execution_count": 41,
   "id": "bd6a3212-e2dd-4dd3-b184-0ee1410181af",
   "metadata": {},
   "outputs": [],
   "source": [
    "y_test = testset['two_year_recid']\n",
    "X_test = testset.drop(columns=['two_year_recid'])"
   ]
  },
  {
   "cell_type": "markdown",
   "id": "9f89c9cb-41ef-4723-9daa-baaa19bd22fd",
   "metadata": {},
   "source": [
    "## Model training"
   ]
  },
  {
   "cell_type": "code",
   "execution_count": 42,
   "id": "b005cc8a-e8d4-429d-b036-72719566a1f4",
   "metadata": {},
   "outputs": [],
   "source": [
    "modelRG1 = RidgeClassifier(random_state=rs) # Logistic Regression Ridge\n"
   ]
  },
  {
   "cell_type": "code",
   "execution_count": 43,
   "id": "016ceabe-832c-44fe-abfc-edb318129e38",
   "metadata": {},
   "outputs": [
    {
     "data": {
      "text/plain": [
       "RidgeClassifier(random_state=0)"
      ]
     },
     "execution_count": 43,
     "metadata": {},
     "output_type": "execute_result"
    }
   ],
   "source": [
    "modelRG1.fit(X_train1, y_train1)"
   ]
  },
  {
   "cell_type": "code",
   "execution_count": 44,
   "id": "2806bd8e-f271-4630-a266-78b802691276",
   "metadata": {},
   "outputs": [
    {
     "data": {
      "text/plain": [
       "RidgeClassifier(random_state=0)"
      ]
     },
     "execution_count": 44,
     "metadata": {},
     "output_type": "execute_result"
    }
   ],
   "source": [
    "modelRG2 = RidgeClassifier(random_state=rs) # Logistic Regression Ridge\n",
    "modelRG2.fit(X_train2, y_train2)"
   ]
  },
  {
   "cell_type": "code",
   "execution_count": 45,
   "id": "49244fc5-e0a9-40dd-a9ad-1aa05d9772d1",
   "metadata": {},
   "outputs": [],
   "source": [
    "def print_metrics(modelRG):\n",
    "    y_pred = modelRG.predict(X_test)\n",
    "    \n",
    "    cm = confusion_matrix(y_test, y_pred)\n",
    "\n",
    "    cr = classification_report(y_test, y_pred)\n",
    "    print(cr)\n",
    "    dis = ConfusionMatrixDisplay(cm)\n",
    "    dis.plot(cmap='cividis', values_format='.0f')\n",
    "\n",
    "    # compute metrics by group\n",
    "    mf = MetricFrame(\n",
    "        metrics={\"selection rate (compas)\": selection_rate},\n",
    "        y_true=y_test,  # is ignored\n",
    "        y_pred=y_pred,\n",
    "        sensitive_features=X_test[\"race\"],\n",
    "    )\n",
    "\n",
    "    # print results\n",
    "    display(mf.by_group)\n",
    "    print(\"Overall selection rate: %.2f\" % mf.overall)\n",
    "\n",
    "    # compute demographic parity as the max difference between groups\n",
    "    print(\"demographic parity difference: %.2f\" % mf.difference(method=\"between_groups\"))\n",
    "\n",
    "    # compute metrics\n",
    "    mf = MetricFrame(\n",
    "        metrics={\n",
    "            \"false positive rate\": false_positive_rate,\n",
    "            \"false negative rate\": false_negative_rate,\n",
    "        },\n",
    "        y_true=y_test,\n",
    "        y_pred=y_pred,\n",
    "        sensitive_features=X_test[[\"race\"]],\n",
    "    )\n",
    "    display(mf.by_group)\n",
    "\n",
    "    # print differences\n",
    "    for i in mf.difference(\"between_groups\").iteritems():\n",
    "        print(\"%s diff: %.2f\" % i)\n",
    "\n",
    "    # alternatively: summarize equalized odds in one metric (which is the max of fpr diff and fnr diff)\n",
    "    dpd = equalized_odds_difference(\n",
    "        y_test,\n",
    "        y_pred,\n",
    "        sensitive_features=X_test[\"race\"],\n",
    "        method=\"between_groups\",\n",
    "    )\n",
    "    print(\"equalized odds diff: %.2f\" % dpd)\n",
    "    \n",
    "    \n",
    "    \n",
    "def print_calib(modelRG):\n",
    "    y_pp = modelRG.decision_function(X_test)\n",
    "    \n",
    "    plt.plot([0, 1], [0, 1], \"k:\", label=\"Perfectly calibrated\")\n",
    "    for race in [0, 1]:\n",
    "        prob_true, prob_pred = calibration_curve(\n",
    "            y_true=y_test[X_test[\"race\"] == race],\n",
    "            y_prob=y_pp[X_test[\"race\"] == race],\n",
    "            n_bins=10,\n",
    "            normalize=True,\n",
    "        )\n",
    "        plt.plot(prob_pred, prob_true, label=race)\n",
    "    plt.title(\"Calibration Curves Compas scores\")\n",
    "    plt.xlabel(\"Mean Predicted Value\")\n",
    "    plt.ylabel(\"Proportion of Positives\")\n",
    "    plt.legend()\n",
    "    plt.show()"
   ]
  },
  {
   "cell_type": "code",
   "execution_count": 46,
   "id": "a907a787-1480-4460-a547-c60a3fb9cf19",
   "metadata": {},
   "outputs": [
    {
     "name": "stdout",
     "output_type": "stream",
     "text": [
      "              precision    recall  f1-score   support\n",
      "\n",
      "           0       0.68      0.68      0.68       724\n",
      "           1       0.61      0.61      0.61       596\n",
      "\n",
      "    accuracy                           0.65      1320\n",
      "   macro avg       0.64      0.64      0.64      1320\n",
      "weighted avg       0.65      0.65      0.65      1320\n",
      "\n"
     ]
    },
    {
     "data": {
      "text/html": [
       "<div>\n",
       "<style scoped>\n",
       "    .dataframe tbody tr th:only-of-type {\n",
       "        vertical-align: middle;\n",
       "    }\n",
       "\n",
       "    .dataframe tbody tr th {\n",
       "        vertical-align: top;\n",
       "    }\n",
       "\n",
       "    .dataframe thead th {\n",
       "        text-align: right;\n",
       "    }\n",
       "</style>\n",
       "<table border=\"1\" class=\"dataframe\">\n",
       "  <thead>\n",
       "    <tr style=\"text-align: right;\">\n",
       "      <th></th>\n",
       "      <th>selection rate (compas)</th>\n",
       "    </tr>\n",
       "    <tr>\n",
       "      <th>race</th>\n",
       "      <th></th>\n",
       "    </tr>\n",
       "  </thead>\n",
       "  <tbody>\n",
       "    <tr>\n",
       "      <th>0</th>\n",
       "      <td>0.578815</td>\n",
       "    </tr>\n",
       "    <tr>\n",
       "      <th>1</th>\n",
       "      <td>0.254269</td>\n",
       "    </tr>\n",
       "  </tbody>\n",
       "</table>\n",
       "</div>"
      ],
      "text/plain": [
       "     selection rate (compas)\n",
       "race                        \n",
       "0                   0.578815\n",
       "1                   0.254269"
      ]
     },
     "metadata": {},
     "output_type": "display_data"
    },
    {
     "name": "stdout",
     "output_type": "stream",
     "text": [
      "Overall selection rate: 0.45\n",
      "demographic parity difference: 0.32\n"
     ]
    },
    {
     "data": {
      "text/html": [
       "<div>\n",
       "<style scoped>\n",
       "    .dataframe tbody tr th:only-of-type {\n",
       "        vertical-align: middle;\n",
       "    }\n",
       "\n",
       "    .dataframe tbody tr th {\n",
       "        vertical-align: top;\n",
       "    }\n",
       "\n",
       "    .dataframe thead th {\n",
       "        text-align: right;\n",
       "    }\n",
       "</style>\n",
       "<table border=\"1\" class=\"dataframe\">\n",
       "  <thead>\n",
       "    <tr style=\"text-align: right;\">\n",
       "      <th></th>\n",
       "      <th>false positive rate</th>\n",
       "      <th>false negative rate</th>\n",
       "    </tr>\n",
       "    <tr>\n",
       "      <th>race</th>\n",
       "      <th></th>\n",
       "      <th></th>\n",
       "    </tr>\n",
       "  </thead>\n",
       "  <tbody>\n",
       "    <tr>\n",
       "      <th>0</th>\n",
       "      <td>0.431078</td>\n",
       "      <td>0.271574</td>\n",
       "    </tr>\n",
       "    <tr>\n",
       "      <th>1</th>\n",
       "      <td>0.184615</td>\n",
       "      <td>0.633663</td>\n",
       "    </tr>\n",
       "  </tbody>\n",
       "</table>\n",
       "</div>"
      ],
      "text/plain": [
       "     false positive rate false negative rate\n",
       "race                                        \n",
       "0               0.431078            0.271574\n",
       "1               0.184615            0.633663"
      ]
     },
     "metadata": {},
     "output_type": "display_data"
    },
    {
     "name": "stdout",
     "output_type": "stream",
     "text": [
      "false positive rate diff: 0.25\n",
      "false negative rate diff: 0.36\n",
      "equalized odds diff: 0.36\n"
     ]
    },
    {
     "data": {
      "image/png": "[encoded data removed]",
      "text/plain": [
       "<Figure size 432x288 with 2 Axes>"
      ]
     },
     "metadata": {
      "needs_background": "light"
     },
     "output_type": "display_data"
    }
   ],
   "source": [
    "print_metrics(modelRG1)"
   ]
  },
  {
   "cell_type": "code",
   "execution_count": 47,
   "id": "172cf5d7-d73d-425b-85e6-7b33e4f355af",
   "metadata": {},
   "outputs": [
    {
     "data": {
      "image/png": "[encoded data removed]",
      "text/plain": [
       "<Figure size 432x288 with 1 Axes>"
      ]
     },
     "metadata": {
      "needs_background": "light"
     },
     "output_type": "display_data"
    }
   ],
   "source": [
    "print_calib(modelRG1)"
   ]
  },
  {
   "cell_type": "code",
   "execution_count": 48,
   "id": "822dc347-6ebb-4546-b77f-d7ee12f679ae",
   "metadata": {},
   "outputs": [
    {
     "name": "stdout",
     "output_type": "stream",
     "text": [
      "              precision    recall  f1-score   support\n",
      "\n",
      "           0       0.69      0.67      0.68       724\n",
      "           1       0.61      0.63      0.62       596\n",
      "\n",
      "    accuracy                           0.65      1320\n",
      "   macro avg       0.65      0.65      0.65      1320\n",
      "weighted avg       0.65      0.65      0.65      1320\n",
      "\n"
     ]
    },
    {
     "data": {
      "text/html": [
       "<div>\n",
       "<style scoped>\n",
       "    .dataframe tbody tr th:only-of-type {\n",
       "        vertical-align: middle;\n",
       "    }\n",
       "\n",
       "    .dataframe tbody tr th {\n",
       "        vertical-align: top;\n",
       "    }\n",
       "\n",
       "    .dataframe thead th {\n",
       "        text-align: right;\n",
       "    }\n",
       "</style>\n",
       "<table border=\"1\" class=\"dataframe\">\n",
       "  <thead>\n",
       "    <tr style=\"text-align: right;\">\n",
       "      <th></th>\n",
       "      <th>selection rate (compas)</th>\n",
       "    </tr>\n",
       "    <tr>\n",
       "      <th>race</th>\n",
       "      <th></th>\n",
       "    </tr>\n",
       "  </thead>\n",
       "  <tbody>\n",
       "    <tr>\n",
       "      <th>0</th>\n",
       "      <td>0.469105</td>\n",
       "    </tr>\n",
       "    <tr>\n",
       "      <th>1</th>\n",
       "      <td>0.462998</td>\n",
       "    </tr>\n",
       "  </tbody>\n",
       "</table>\n",
       "</div>"
      ],
      "text/plain": [
       "     selection rate (compas)\n",
       "race                        \n",
       "0                   0.469105\n",
       "1                   0.462998"
      ]
     },
     "metadata": {},
     "output_type": "display_data"
    },
    {
     "name": "stdout",
     "output_type": "stream",
     "text": [
      "Overall selection rate: 0.47\n",
      "demographic parity difference: 0.01\n"
     ]
    },
    {
     "data": {
      "text/html": [
       "<div>\n",
       "<style scoped>\n",
       "    .dataframe tbody tr th:only-of-type {\n",
       "        vertical-align: middle;\n",
       "    }\n",
       "\n",
       "    .dataframe tbody tr th {\n",
       "        vertical-align: top;\n",
       "    }\n",
       "\n",
       "    .dataframe thead th {\n",
       "        text-align: right;\n",
       "    }\n",
       "</style>\n",
       "<table border=\"1\" class=\"dataframe\">\n",
       "  <thead>\n",
       "    <tr style=\"text-align: right;\">\n",
       "      <th></th>\n",
       "      <th>false positive rate</th>\n",
       "      <th>false negative rate</th>\n",
       "    </tr>\n",
       "    <tr>\n",
       "      <th>race</th>\n",
       "      <th></th>\n",
       "      <th></th>\n",
       "    </tr>\n",
       "  </thead>\n",
       "  <tbody>\n",
       "    <tr>\n",
       "      <th>0</th>\n",
       "      <td>0.290727</td>\n",
       "      <td>0.350254</td>\n",
       "    </tr>\n",
       "    <tr>\n",
       "      <th>1</th>\n",
       "      <td>0.381538</td>\n",
       "      <td>0.405941</td>\n",
       "    </tr>\n",
       "  </tbody>\n",
       "</table>\n",
       "</div>"
      ],
      "text/plain": [
       "     false positive rate false negative rate\n",
       "race                                        \n",
       "0               0.290727            0.350254\n",
       "1               0.381538            0.405941"
      ]
     },
     "metadata": {},
     "output_type": "display_data"
    },
    {
     "name": "stdout",
     "output_type": "stream",
     "text": [
      "false positive rate diff: 0.09\n",
      "false negative rate diff: 0.06\n",
      "equalized odds diff: 0.09\n"
     ]
    },
    {
     "data": {
      "image/png": "[encoded data removed]",
      "text/plain": [
       "<Figure size 432x288 with 2 Axes>"
      ]
     },
     "metadata": {
      "needs_background": "light"
     },
     "output_type": "display_data"
    }
   ],
   "source": [
    "print_metrics(modelRG2)"
   ]
  },
  {
   "cell_type": "code",
   "execution_count": 49,
   "id": "cab2ec09-edf1-411e-ae77-4cd2766da9f1",
   "metadata": {},
   "outputs": [
    {
     "data": {
      "image/png": "[encoded data removed]",
      "text/plain": [
       "<Figure size 432x288 with 1 Axes>"
      ]
     },
     "metadata": {
      "needs_background": "light"
     },
     "output_type": "display_data"
    }
   ],
   "source": [
    "print_calib(modelRG2)"
   ]
  },
  {
   "cell_type": "code",
   "execution_count": null,
   "id": "6ff68500-e004-4065-9e61-7a0c05371384",
   "metadata": {},
   "outputs": [],
   "source": []
  }
 ],
 "metadata": {
  "kernelspec": {
   "display_name": "Python 3 (ipykernel)",
   "language": "python",
   "name": "python3"
  },
  "language_info": {
   "codemirror_mode": {
    "name": "ipython",
    "version": 3
   },
   "file_extension": ".py",
   "mimetype": "text/x-python",
   "name": "python",
   "nbconvert_exporter": "python",
   "pygments_lexer": "ipython3",
   "version": "3.9.7"
  }
 },
 "nbformat": 4,
 "nbformat_minor": 5
}
