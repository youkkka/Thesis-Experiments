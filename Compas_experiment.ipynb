{
 "cells": [
  {
   "cell_type": "markdown",
   "id": "ea932194-1308-4f6b-a894-c922be44c7dc",
   "metadata": {},
   "source": [
    "# Imports"
   ]
  },
  {
   "cell_type": "code",
   "execution_count": 1,
   "id": "13c29759-5465-414f-a089-5d9c4dee3b6d",
   "metadata": {},
   "outputs": [],
   "source": [
    "# Imports\n",
    "import pandas as pd\n",
    "import numpy as np\n",
    "\n",
    "from sklearn.linear_model import LogisticRegression, RidgeClassifier\n",
    "from sklearn.tree import DecisionTreeClassifier\n",
    "from sklearn.ensemble import RandomForestClassifier\n",
    "from sklearn.naive_bayes import GaussianNB\n",
    "\n",
    "from sklearn.model_selection import train_test_split\n",
    "\n",
    "from sklearn.metrics import confusion_matrix, ConfusionMatrixDisplay, classification_report, plot_confusion_matrix, auc, roc_curve, roc_auc_score, average_precision_score\n",
    "\n",
    "from sklearn.neighbors import NearestNeighbors\n",
    "\n",
    "# from imblearn.over_sampling import RandomOverSampler, SMOTE\n",
    "\n",
    "# measuring fairness\n",
    "from fairlearn.metrics import (\n",
    "    count,\n",
    "    demographic_parity_difference,\n",
    "    equalized_odds_difference,\n",
    "    false_positive_rate,\n",
    "    false_negative_rate,\n",
    "    MetricFrame,\n",
    "    make_derived_metric,\n",
    "    selection_rate,  \n",
    ")\n",
    "from sklearn.metrics import precision_score\n",
    "from sklearn.calibration import calibration_curve\n",
    "\n",
    "import matplotlib.pyplot as plt\n",
    "\n",
    "from random import sample\n",
    "# from random import choice\n",
    "\n",
    "import warnings\n",
    "warnings.filterwarnings(\"ignore\")"
   ]
  },
  {
   "cell_type": "markdown",
   "id": "b71bcfec-344f-4836-9632-8507bbdcd8c6",
   "metadata": {},
   "source": [
    "# COMPAS data cleaning"
   ]
  },
  {
   "cell_type": "code",
   "execution_count": 2,
   "id": "23646709-2bf5-4b50-9d62-3395fa45587d",
   "metadata": {},
   "outputs": [],
   "source": [
    "compas_raw = pd.read_csv(\"compas-scores-two-years.csv\")"
   ]
  },
  {
   "cell_type": "code",
   "execution_count": 3,
   "id": "2eb4bde9-9e31-43a4-aa1b-4750e9234daa",
   "metadata": {},
   "outputs": [
    {
     "data": {
      "text/html": [
       "<div>\n",
       "<style scoped>\n",
       "    .dataframe tbody tr th:only-of-type {\n",
       "        vertical-align: middle;\n",
       "    }\n",
       "\n",
       "    .dataframe tbody tr th {\n",
       "        vertical-align: top;\n",
       "    }\n",
       "\n",
       "    .dataframe thead th {\n",
       "        text-align: right;\n",
       "    }\n",
       "</style>\n",
       "<table border=\"1\" class=\"dataframe\">\n",
       "  <thead>\n",
       "    <tr style=\"text-align: right;\">\n",
       "      <th></th>\n",
       "      <th>id</th>\n",
       "      <th>name</th>\n",
       "      <th>first</th>\n",
       "      <th>last</th>\n",
       "      <th>compas_screening_date</th>\n",
       "      <th>sex</th>\n",
       "      <th>dob</th>\n",
       "      <th>age</th>\n",
       "      <th>age_cat</th>\n",
       "      <th>race</th>\n",
       "      <th>...</th>\n",
       "      <th>v_decile_score</th>\n",
       "      <th>v_score_text</th>\n",
       "      <th>v_screening_date</th>\n",
       "      <th>in_custody</th>\n",
       "      <th>out_custody</th>\n",
       "      <th>priors_count.1</th>\n",
       "      <th>start</th>\n",
       "      <th>end</th>\n",
       "      <th>event</th>\n",
       "      <th>two_year_recid</th>\n",
       "    </tr>\n",
       "  </thead>\n",
       "  <tbody>\n",
       "    <tr>\n",
       "      <th>0</th>\n",
       "      <td>1</td>\n",
       "      <td>miguel hernandez</td>\n",
       "      <td>miguel</td>\n",
       "      <td>hernandez</td>\n",
       "      <td>2013-08-14</td>\n",
       "      <td>Male</td>\n",
       "      <td>1947-04-18</td>\n",
       "      <td>69</td>\n",
       "      <td>Greater than 45</td>\n",
       "      <td>Other</td>\n",
       "      <td>...</td>\n",
       "      <td>1</td>\n",
       "      <td>Low</td>\n",
       "      <td>2013-08-14</td>\n",
       "      <td>2014-07-07</td>\n",
       "      <td>2014-07-14</td>\n",
       "      <td>0</td>\n",
       "      <td>0</td>\n",
       "      <td>327</td>\n",
       "      <td>0</td>\n",
       "      <td>0</td>\n",
       "    </tr>\n",
       "    <tr>\n",
       "      <th>1</th>\n",
       "      <td>3</td>\n",
       "      <td>kevon dixon</td>\n",
       "      <td>kevon</td>\n",
       "      <td>dixon</td>\n",
       "      <td>2013-01-27</td>\n",
       "      <td>Male</td>\n",
       "      <td>1982-01-22</td>\n",
       "      <td>34</td>\n",
       "      <td>25 - 45</td>\n",
       "      <td>African-American</td>\n",
       "      <td>...</td>\n",
       "      <td>1</td>\n",
       "      <td>Low</td>\n",
       "      <td>2013-01-27</td>\n",
       "      <td>2013-01-26</td>\n",
       "      <td>2013-02-05</td>\n",
       "      <td>0</td>\n",
       "      <td>9</td>\n",
       "      <td>159</td>\n",
       "      <td>1</td>\n",
       "      <td>1</td>\n",
       "    </tr>\n",
       "    <tr>\n",
       "      <th>2</th>\n",
       "      <td>4</td>\n",
       "      <td>ed philo</td>\n",
       "      <td>ed</td>\n",
       "      <td>philo</td>\n",
       "      <td>2013-04-14</td>\n",
       "      <td>Male</td>\n",
       "      <td>1991-05-14</td>\n",
       "      <td>24</td>\n",
       "      <td>Less than 25</td>\n",
       "      <td>African-American</td>\n",
       "      <td>...</td>\n",
       "      <td>3</td>\n",
       "      <td>Low</td>\n",
       "      <td>2013-04-14</td>\n",
       "      <td>2013-06-16</td>\n",
       "      <td>2013-06-16</td>\n",
       "      <td>4</td>\n",
       "      <td>0</td>\n",
       "      <td>63</td>\n",
       "      <td>0</td>\n",
       "      <td>1</td>\n",
       "    </tr>\n",
       "    <tr>\n",
       "      <th>3</th>\n",
       "      <td>5</td>\n",
       "      <td>marcu brown</td>\n",
       "      <td>marcu</td>\n",
       "      <td>brown</td>\n",
       "      <td>2013-01-13</td>\n",
       "      <td>Male</td>\n",
       "      <td>1993-01-21</td>\n",
       "      <td>23</td>\n",
       "      <td>Less than 25</td>\n",
       "      <td>African-American</td>\n",
       "      <td>...</td>\n",
       "      <td>6</td>\n",
       "      <td>Medium</td>\n",
       "      <td>2013-01-13</td>\n",
       "      <td>NaN</td>\n",
       "      <td>NaN</td>\n",
       "      <td>1</td>\n",
       "      <td>0</td>\n",
       "      <td>1174</td>\n",
       "      <td>0</td>\n",
       "      <td>0</td>\n",
       "    </tr>\n",
       "    <tr>\n",
       "      <th>4</th>\n",
       "      <td>6</td>\n",
       "      <td>bouthy pierrelouis</td>\n",
       "      <td>bouthy</td>\n",
       "      <td>pierrelouis</td>\n",
       "      <td>2013-03-26</td>\n",
       "      <td>Male</td>\n",
       "      <td>1973-01-22</td>\n",
       "      <td>43</td>\n",
       "      <td>25 - 45</td>\n",
       "      <td>Other</td>\n",
       "      <td>...</td>\n",
       "      <td>1</td>\n",
       "      <td>Low</td>\n",
       "      <td>2013-03-26</td>\n",
       "      <td>NaN</td>\n",
       "      <td>NaN</td>\n",
       "      <td>2</td>\n",
       "      <td>0</td>\n",
       "      <td>1102</td>\n",
       "      <td>0</td>\n",
       "      <td>0</td>\n",
       "    </tr>\n",
       "    <tr>\n",
       "      <th>...</th>\n",
       "      <td>...</td>\n",
       "      <td>...</td>\n",
       "      <td>...</td>\n",
       "      <td>...</td>\n",
       "      <td>...</td>\n",
       "      <td>...</td>\n",
       "      <td>...</td>\n",
       "      <td>...</td>\n",
       "      <td>...</td>\n",
       "      <td>...</td>\n",
       "      <td>...</td>\n",
       "      <td>...</td>\n",
       "      <td>...</td>\n",
       "      <td>...</td>\n",
       "      <td>...</td>\n",
       "      <td>...</td>\n",
       "      <td>...</td>\n",
       "      <td>...</td>\n",
       "      <td>...</td>\n",
       "      <td>...</td>\n",
       "      <td>...</td>\n",
       "    </tr>\n",
       "    <tr>\n",
       "      <th>7209</th>\n",
       "      <td>10996</td>\n",
       "      <td>steven butler</td>\n",
       "      <td>steven</td>\n",
       "      <td>butler</td>\n",
       "      <td>2013-11-23</td>\n",
       "      <td>Male</td>\n",
       "      <td>1992-07-17</td>\n",
       "      <td>23</td>\n",
       "      <td>Less than 25</td>\n",
       "      <td>African-American</td>\n",
       "      <td>...</td>\n",
       "      <td>5</td>\n",
       "      <td>Medium</td>\n",
       "      <td>2013-11-23</td>\n",
       "      <td>2013-11-22</td>\n",
       "      <td>2013-11-24</td>\n",
       "      <td>0</td>\n",
       "      <td>1</td>\n",
       "      <td>860</td>\n",
       "      <td>0</td>\n",
       "      <td>0</td>\n",
       "    </tr>\n",
       "    <tr>\n",
       "      <th>7210</th>\n",
       "      <td>10997</td>\n",
       "      <td>malcolm simmons</td>\n",
       "      <td>malcolm</td>\n",
       "      <td>simmons</td>\n",
       "      <td>2014-02-01</td>\n",
       "      <td>Male</td>\n",
       "      <td>1993-03-25</td>\n",
       "      <td>23</td>\n",
       "      <td>Less than 25</td>\n",
       "      <td>African-American</td>\n",
       "      <td>...</td>\n",
       "      <td>5</td>\n",
       "      <td>Medium</td>\n",
       "      <td>2014-02-01</td>\n",
       "      <td>2014-01-31</td>\n",
       "      <td>2014-02-02</td>\n",
       "      <td>0</td>\n",
       "      <td>1</td>\n",
       "      <td>790</td>\n",
       "      <td>0</td>\n",
       "      <td>0</td>\n",
       "    </tr>\n",
       "    <tr>\n",
       "      <th>7211</th>\n",
       "      <td>10999</td>\n",
       "      <td>winston gregory</td>\n",
       "      <td>winston</td>\n",
       "      <td>gregory</td>\n",
       "      <td>2014-01-14</td>\n",
       "      <td>Male</td>\n",
       "      <td>1958-10-01</td>\n",
       "      <td>57</td>\n",
       "      <td>Greater than 45</td>\n",
       "      <td>Other</td>\n",
       "      <td>...</td>\n",
       "      <td>1</td>\n",
       "      <td>Low</td>\n",
       "      <td>2014-01-14</td>\n",
       "      <td>2014-01-13</td>\n",
       "      <td>2014-01-14</td>\n",
       "      <td>0</td>\n",
       "      <td>0</td>\n",
       "      <td>808</td>\n",
       "      <td>0</td>\n",
       "      <td>0</td>\n",
       "    </tr>\n",
       "    <tr>\n",
       "      <th>7212</th>\n",
       "      <td>11000</td>\n",
       "      <td>farrah jean</td>\n",
       "      <td>farrah</td>\n",
       "      <td>jean</td>\n",
       "      <td>2014-03-09</td>\n",
       "      <td>Female</td>\n",
       "      <td>1982-11-17</td>\n",
       "      <td>33</td>\n",
       "      <td>25 - 45</td>\n",
       "      <td>African-American</td>\n",
       "      <td>...</td>\n",
       "      <td>2</td>\n",
       "      <td>Low</td>\n",
       "      <td>2014-03-09</td>\n",
       "      <td>2014-03-08</td>\n",
       "      <td>2014-03-09</td>\n",
       "      <td>3</td>\n",
       "      <td>0</td>\n",
       "      <td>754</td>\n",
       "      <td>0</td>\n",
       "      <td>0</td>\n",
       "    </tr>\n",
       "    <tr>\n",
       "      <th>7213</th>\n",
       "      <td>11001</td>\n",
       "      <td>florencia sanmartin</td>\n",
       "      <td>florencia</td>\n",
       "      <td>sanmartin</td>\n",
       "      <td>2014-06-30</td>\n",
       "      <td>Female</td>\n",
       "      <td>1992-12-18</td>\n",
       "      <td>23</td>\n",
       "      <td>Less than 25</td>\n",
       "      <td>Hispanic</td>\n",
       "      <td>...</td>\n",
       "      <td>4</td>\n",
       "      <td>Low</td>\n",
       "      <td>2014-06-30</td>\n",
       "      <td>2015-03-15</td>\n",
       "      <td>2015-03-15</td>\n",
       "      <td>2</td>\n",
       "      <td>0</td>\n",
       "      <td>258</td>\n",
       "      <td>0</td>\n",
       "      <td>1</td>\n",
       "    </tr>\n",
       "  </tbody>\n",
       "</table>\n",
       "<p>7214 rows × 53 columns</p>\n",
       "</div>"
      ],
      "text/plain": [
       "         id                 name      first         last  \\\n",
       "0         1     miguel hernandez     miguel    hernandez   \n",
       "1         3          kevon dixon      kevon        dixon   \n",
       "2         4             ed philo         ed        philo   \n",
       "3         5          marcu brown      marcu        brown   \n",
       "4         6   bouthy pierrelouis     bouthy  pierrelouis   \n",
       "...     ...                  ...        ...          ...   \n",
       "7209  10996        steven butler     steven       butler   \n",
       "7210  10997      malcolm simmons    malcolm      simmons   \n",
       "7211  10999      winston gregory    winston      gregory   \n",
       "7212  11000          farrah jean     farrah         jean   \n",
       "7213  11001  florencia sanmartin  florencia    sanmartin   \n",
       "\n",
       "     compas_screening_date     sex         dob  age          age_cat  \\\n",
       "0               2013-08-14    Male  1947-04-18   69  Greater than 45   \n",
       "1               2013-01-27    Male  1982-01-22   34          25 - 45   \n",
       "2               2013-04-14    Male  1991-05-14   24     Less than 25   \n",
       "3               2013-01-13    Male  1993-01-21   23     Less than 25   \n",
       "4               2013-03-26    Male  1973-01-22   43          25 - 45   \n",
       "...                    ...     ...         ...  ...              ...   \n",
       "7209            2013-11-23    Male  1992-07-17   23     Less than 25   \n",
       "7210            2014-02-01    Male  1993-03-25   23     Less than 25   \n",
       "7211            2014-01-14    Male  1958-10-01   57  Greater than 45   \n",
       "7212            2014-03-09  Female  1982-11-17   33          25 - 45   \n",
       "7213            2014-06-30  Female  1992-12-18   23     Less than 25   \n",
       "\n",
       "                  race  ...  v_decile_score  v_score_text  v_screening_date  \\\n",
       "0                Other  ...               1           Low        2013-08-14   \n",
       "1     African-American  ...               1           Low        2013-01-27   \n",
       "2     African-American  ...               3           Low        2013-04-14   \n",
       "3     African-American  ...               6        Medium        2013-01-13   \n",
       "4                Other  ...               1           Low        2013-03-26   \n",
       "...                ...  ...             ...           ...               ...   \n",
       "7209  African-American  ...               5        Medium        2013-11-23   \n",
       "7210  African-American  ...               5        Medium        2014-02-01   \n",
       "7211             Other  ...               1           Low        2014-01-14   \n",
       "7212  African-American  ...               2           Low        2014-03-09   \n",
       "7213          Hispanic  ...               4           Low        2014-06-30   \n",
       "\n",
       "      in_custody  out_custody  priors_count.1 start   end event two_year_recid  \n",
       "0     2014-07-07   2014-07-14               0     0   327     0              0  \n",
       "1     2013-01-26   2013-02-05               0     9   159     1              1  \n",
       "2     2013-06-16   2013-06-16               4     0    63     0              1  \n",
       "3            NaN          NaN               1     0  1174     0              0  \n",
       "4            NaN          NaN               2     0  1102     0              0  \n",
       "...          ...          ...             ...   ...   ...   ...            ...  \n",
       "7209  2013-11-22   2013-11-24               0     1   860     0              0  \n",
       "7210  2014-01-31   2014-02-02               0     1   790     0              0  \n",
       "7211  2014-01-13   2014-01-14               0     0   808     0              0  \n",
       "7212  2014-03-08   2014-03-09               3     0   754     0              0  \n",
       "7213  2015-03-15   2015-03-15               2     0   258     0              1  \n",
       "\n",
       "[7214 rows x 53 columns]"
      ]
     },
     "execution_count": 3,
     "metadata": {},
     "output_type": "execute_result"
    }
   ],
   "source": [
    "compas_raw"
   ]
  },
  {
   "cell_type": "code",
   "execution_count": 4,
   "id": "d3503f3a-c94a-4ba2-b4df-db6f437c0b8e",
   "metadata": {},
   "outputs": [
    {
     "data": {
      "text/plain": [
       "id                            0\n",
       "name                          0\n",
       "first                         0\n",
       "last                          0\n",
       "compas_screening_date         0\n",
       "sex                           0\n",
       "dob                           0\n",
       "age                           0\n",
       "age_cat                       0\n",
       "race                          0\n",
       "juv_fel_count                 0\n",
       "decile_score                  0\n",
       "juv_misd_count                0\n",
       "juv_other_count               0\n",
       "priors_count                  0\n",
       "days_b_screening_arrest     307\n",
       "c_jail_in                   307\n",
       "c_jail_out                  307\n",
       "c_case_number                22\n",
       "c_offense_date             1159\n",
       "c_arrest_date              6077\n",
       "c_days_from_compas           22\n",
       "c_charge_degree               0\n",
       "c_charge_desc                29\n",
       "is_recid                      0\n",
       "r_case_number              3743\n",
       "r_charge_degree            3743\n",
       "r_days_from_arrest         4898\n",
       "r_offense_date             3743\n",
       "r_charge_desc              3801\n",
       "r_jail_in                  4898\n",
       "r_jail_out                 4898\n",
       "violent_recid              7214\n",
       "is_violent_recid              0\n",
       "vr_case_number             6395\n",
       "vr_charge_degree           6395\n",
       "vr_offense_date            6395\n",
       "vr_charge_desc             6395\n",
       "type_of_assessment            0\n",
       "decile_score.1                0\n",
       "score_text                    0\n",
       "screening_date                0\n",
       "v_type_of_assessment          0\n",
       "v_decile_score                0\n",
       "v_score_text                  0\n",
       "v_screening_date              0\n",
       "in_custody                  236\n",
       "out_custody                 236\n",
       "priors_count.1                0\n",
       "start                         0\n",
       "end                           0\n",
       "event                         0\n",
       "two_year_recid                0\n",
       "dtype: int64"
      ]
     },
     "execution_count": 4,
     "metadata": {},
     "output_type": "execute_result"
    }
   ],
   "source": [
    "compas_raw.isna().sum()"
   ]
  },
  {
   "cell_type": "code",
   "execution_count": 5,
   "id": "0dc22646-0e23-4ea0-978d-47f1990f890c",
   "metadata": {},
   "outputs": [
    {
     "data": {
      "text/html": [
       "<div>\n",
       "<style scoped>\n",
       "    .dataframe tbody tr th:only-of-type {\n",
       "        vertical-align: middle;\n",
       "    }\n",
       "\n",
       "    .dataframe tbody tr th {\n",
       "        vertical-align: top;\n",
       "    }\n",
       "\n",
       "    .dataframe thead th {\n",
       "        text-align: right;\n",
       "    }\n",
       "</style>\n",
       "<table border=\"1\" class=\"dataframe\">\n",
       "  <thead>\n",
       "    <tr style=\"text-align: right;\">\n",
       "      <th></th>\n",
       "      <th>sex</th>\n",
       "      <th>age</th>\n",
       "      <th>race</th>\n",
       "      <th>priors_count</th>\n",
       "      <th>c_charge_degree</th>\n",
       "      <th>two_year_recid</th>\n",
       "    </tr>\n",
       "  </thead>\n",
       "  <tbody>\n",
       "    <tr>\n",
       "      <th>0</th>\n",
       "      <td>Male</td>\n",
       "      <td>69</td>\n",
       "      <td>Other</td>\n",
       "      <td>0</td>\n",
       "      <td>F</td>\n",
       "      <td>0</td>\n",
       "    </tr>\n",
       "    <tr>\n",
       "      <th>1</th>\n",
       "      <td>Male</td>\n",
       "      <td>34</td>\n",
       "      <td>African-American</td>\n",
       "      <td>0</td>\n",
       "      <td>F</td>\n",
       "      <td>1</td>\n",
       "    </tr>\n",
       "    <tr>\n",
       "      <th>2</th>\n",
       "      <td>Male</td>\n",
       "      <td>24</td>\n",
       "      <td>African-American</td>\n",
       "      <td>4</td>\n",
       "      <td>F</td>\n",
       "      <td>1</td>\n",
       "    </tr>\n",
       "    <tr>\n",
       "      <th>5</th>\n",
       "      <td>Male</td>\n",
       "      <td>44</td>\n",
       "      <td>Other</td>\n",
       "      <td>0</td>\n",
       "      <td>M</td>\n",
       "      <td>0</td>\n",
       "    </tr>\n",
       "    <tr>\n",
       "      <th>6</th>\n",
       "      <td>Male</td>\n",
       "      <td>41</td>\n",
       "      <td>Caucasian</td>\n",
       "      <td>14</td>\n",
       "      <td>F</td>\n",
       "      <td>1</td>\n",
       "    </tr>\n",
       "  </tbody>\n",
       "</table>\n",
       "</div>"
      ],
      "text/plain": [
       "    sex  age              race  priors_count c_charge_degree  two_year_recid\n",
       "0  Male   69             Other             0               F               0\n",
       "1  Male   34  African-American             0               F               1\n",
       "2  Male   24  African-American             4               F               1\n",
       "5  Male   44             Other             0               M               0\n",
       "6  Male   41         Caucasian            14               F               1"
      ]
     },
     "execution_count": 5,
     "metadata": {},
     "output_type": "execute_result"
    }
   ],
   "source": [
    "# filter similar to propublica\n",
    "compas_drop = compas_raw[\n",
    "    (compas_raw[\"days_b_screening_arrest\"] <= 30)\n",
    "    & (compas_raw[\"days_b_screening_arrest\"] >= -30)\n",
    "    & (compas_raw[\"is_recid\"] != -1)\n",
    "    & (compas_raw[\"c_charge_degree\"] != \"O\")\n",
    "    & (compas_raw[\"score_text\"] != \"N/A\")\n",
    "]\n",
    "\n",
    "compas_drop = compas_drop[[\"sex\", \"age\", \"race\", \"priors_count\", 'c_charge_degree', \"two_year_recid\"]]\n",
    "\n",
    "compas_drop.head()"
   ]
  },
  {
   "cell_type": "code",
   "execution_count": 6,
   "id": "05757fc7-0c59-4128-95f8-94870857ec17",
   "metadata": {},
   "outputs": [
    {
     "data": {
      "text/plain": [
       "array(['Other', 'African-American', 'Caucasian', 'Hispanic', 'Asian',\n",
       "       'Native American'], dtype=object)"
      ]
     },
     "execution_count": 6,
     "metadata": {},
     "output_type": "execute_result"
    }
   ],
   "source": [
    "compas_drop['race'].unique()"
   ]
  },
  {
   "cell_type": "code",
   "execution_count": 7,
   "id": "cb3fccd7-bbf7-4a08-bdd1-4518b9ffe64d",
   "metadata": {},
   "outputs": [],
   "source": [
    "compas_bin = compas_drop[(compas_drop['race'] == 'African-American') | (compas_drop['race'] == 'Caucasian')]"
   ]
  },
  {
   "cell_type": "code",
   "execution_count": 8,
   "id": "b4d262ba-51b3-44cc-9931-66d07f6d1469",
   "metadata": {},
   "outputs": [
    {
     "data": {
      "text/html": [
       "<div>\n",
       "<style scoped>\n",
       "    .dataframe tbody tr th:only-of-type {\n",
       "        vertical-align: middle;\n",
       "    }\n",
       "\n",
       "    .dataframe tbody tr th {\n",
       "        vertical-align: top;\n",
       "    }\n",
       "\n",
       "    .dataframe thead th {\n",
       "        text-align: right;\n",
       "    }\n",
       "</style>\n",
       "<table border=\"1\" class=\"dataframe\">\n",
       "  <thead>\n",
       "    <tr style=\"text-align: right;\">\n",
       "      <th></th>\n",
       "      <th>sex</th>\n",
       "      <th>age</th>\n",
       "      <th>race</th>\n",
       "      <th>priors_count</th>\n",
       "      <th>c_charge_degree</th>\n",
       "      <th>two_year_recid</th>\n",
       "    </tr>\n",
       "  </thead>\n",
       "  <tbody>\n",
       "    <tr>\n",
       "      <th>0</th>\n",
       "      <td>Male</td>\n",
       "      <td>34</td>\n",
       "      <td>African-American</td>\n",
       "      <td>0</td>\n",
       "      <td>F</td>\n",
       "      <td>1</td>\n",
       "    </tr>\n",
       "    <tr>\n",
       "      <th>1</th>\n",
       "      <td>Male</td>\n",
       "      <td>24</td>\n",
       "      <td>African-American</td>\n",
       "      <td>4</td>\n",
       "      <td>F</td>\n",
       "      <td>1</td>\n",
       "    </tr>\n",
       "    <tr>\n",
       "      <th>2</th>\n",
       "      <td>Male</td>\n",
       "      <td>41</td>\n",
       "      <td>Caucasian</td>\n",
       "      <td>14</td>\n",
       "      <td>F</td>\n",
       "      <td>1</td>\n",
       "    </tr>\n",
       "    <tr>\n",
       "      <th>3</th>\n",
       "      <td>Female</td>\n",
       "      <td>39</td>\n",
       "      <td>Caucasian</td>\n",
       "      <td>0</td>\n",
       "      <td>M</td>\n",
       "      <td>0</td>\n",
       "    </tr>\n",
       "    <tr>\n",
       "      <th>4</th>\n",
       "      <td>Male</td>\n",
       "      <td>27</td>\n",
       "      <td>Caucasian</td>\n",
       "      <td>0</td>\n",
       "      <td>F</td>\n",
       "      <td>0</td>\n",
       "    </tr>\n",
       "    <tr>\n",
       "      <th>...</th>\n",
       "      <td>...</td>\n",
       "      <td>...</td>\n",
       "      <td>...</td>\n",
       "      <td>...</td>\n",
       "      <td>...</td>\n",
       "      <td>...</td>\n",
       "    </tr>\n",
       "    <tr>\n",
       "      <th>5273</th>\n",
       "      <td>Male</td>\n",
       "      <td>30</td>\n",
       "      <td>African-American</td>\n",
       "      <td>0</td>\n",
       "      <td>M</td>\n",
       "      <td>1</td>\n",
       "    </tr>\n",
       "    <tr>\n",
       "      <th>5274</th>\n",
       "      <td>Male</td>\n",
       "      <td>20</td>\n",
       "      <td>African-American</td>\n",
       "      <td>0</td>\n",
       "      <td>F</td>\n",
       "      <td>0</td>\n",
       "    </tr>\n",
       "    <tr>\n",
       "      <th>5275</th>\n",
       "      <td>Male</td>\n",
       "      <td>23</td>\n",
       "      <td>African-American</td>\n",
       "      <td>0</td>\n",
       "      <td>F</td>\n",
       "      <td>0</td>\n",
       "    </tr>\n",
       "    <tr>\n",
       "      <th>5276</th>\n",
       "      <td>Male</td>\n",
       "      <td>23</td>\n",
       "      <td>African-American</td>\n",
       "      <td>0</td>\n",
       "      <td>F</td>\n",
       "      <td>0</td>\n",
       "    </tr>\n",
       "    <tr>\n",
       "      <th>5277</th>\n",
       "      <td>Female</td>\n",
       "      <td>33</td>\n",
       "      <td>African-American</td>\n",
       "      <td>3</td>\n",
       "      <td>M</td>\n",
       "      <td>0</td>\n",
       "    </tr>\n",
       "  </tbody>\n",
       "</table>\n",
       "<p>5278 rows × 6 columns</p>\n",
       "</div>"
      ],
      "text/plain": [
       "         sex  age              race  priors_count c_charge_degree  \\\n",
       "0       Male   34  African-American             0               F   \n",
       "1       Male   24  African-American             4               F   \n",
       "2       Male   41         Caucasian            14               F   \n",
       "3     Female   39         Caucasian             0               M   \n",
       "4       Male   27         Caucasian             0               F   \n",
       "...      ...  ...               ...           ...             ...   \n",
       "5273    Male   30  African-American             0               M   \n",
       "5274    Male   20  African-American             0               F   \n",
       "5275    Male   23  African-American             0               F   \n",
       "5276    Male   23  African-American             0               F   \n",
       "5277  Female   33  African-American             3               M   \n",
       "\n",
       "      two_year_recid  \n",
       "0                  1  \n",
       "1                  1  \n",
       "2                  1  \n",
       "3                  0  \n",
       "4                  0  \n",
       "...              ...  \n",
       "5273               1  \n",
       "5274               0  \n",
       "5275               0  \n",
       "5276               0  \n",
       "5277               0  \n",
       "\n",
       "[5278 rows x 6 columns]"
      ]
     },
     "execution_count": 8,
     "metadata": {},
     "output_type": "execute_result"
    }
   ],
   "source": [
    "compas_bin.reset_index(drop=True)"
   ]
  },
  {
   "cell_type": "code",
   "execution_count": 9,
   "id": "b4e6aaa2-7a8c-4a98-ac23-a799e65b78ef",
   "metadata": {},
   "outputs": [
    {
     "data": {
      "text/plain": [
       "0    2795\n",
       "1    2483\n",
       "Name: two_year_recid, dtype: int64"
      ]
     },
     "execution_count": 9,
     "metadata": {},
     "output_type": "execute_result"
    }
   ],
   "source": [
    "compas_bin['two_year_recid'].value_counts()"
   ]
  },
  {
   "cell_type": "code",
   "execution_count": 10,
   "id": "f0e6f1f6-2b23-49d5-a434-acac66a66362",
   "metadata": {},
   "outputs": [
    {
     "data": {
      "text/html": [
       "<div>\n",
       "<style scoped>\n",
       "    .dataframe tbody tr th:only-of-type {\n",
       "        vertical-align: middle;\n",
       "    }\n",
       "\n",
       "    .dataframe tbody tr th {\n",
       "        vertical-align: top;\n",
       "    }\n",
       "\n",
       "    .dataframe thead th {\n",
       "        text-align: right;\n",
       "    }\n",
       "</style>\n",
       "<table border=\"1\" class=\"dataframe\">\n",
       "  <thead>\n",
       "    <tr style=\"text-align: right;\">\n",
       "      <th></th>\n",
       "      <th></th>\n",
       "      <th>0</th>\n",
       "    </tr>\n",
       "    <tr>\n",
       "      <th>race</th>\n",
       "      <th>two_year_recid</th>\n",
       "      <th></th>\n",
       "    </tr>\n",
       "  </thead>\n",
       "  <tbody>\n",
       "    <tr>\n",
       "      <th rowspan=\"2\" valign=\"top\">African-American</th>\n",
       "      <th>1</th>\n",
       "      <td>1661</td>\n",
       "    </tr>\n",
       "    <tr>\n",
       "      <th>0</th>\n",
       "      <td>1514</td>\n",
       "    </tr>\n",
       "    <tr>\n",
       "      <th rowspan=\"2\" valign=\"top\">Caucasian</th>\n",
       "      <th>0</th>\n",
       "      <td>1281</td>\n",
       "    </tr>\n",
       "    <tr>\n",
       "      <th>1</th>\n",
       "      <td>822</td>\n",
       "    </tr>\n",
       "  </tbody>\n",
       "</table>\n",
       "</div>"
      ],
      "text/plain": [
       "                                    0\n",
       "race             two_year_recid      \n",
       "African-American 1               1661\n",
       "                 0               1514\n",
       "Caucasian        0               1281\n",
       "                 1                822"
      ]
     },
     "execution_count": 10,
     "metadata": {},
     "output_type": "execute_result"
    }
   ],
   "source": [
    "compas_bin.value_counts(['race', 'two_year_recid']).to_frame()"
   ]
  },
  {
   "cell_type": "code",
   "execution_count": 11,
   "id": "e92d261a-2fa5-40cf-9a12-3a118d61c39f",
   "metadata": {},
   "outputs": [],
   "source": [
    "compas = compas_bin"
   ]
  },
  {
   "cell_type": "code",
   "execution_count": 12,
   "id": "9a38aa8f-2018-4cd4-aa2a-e6f607efab57",
   "metadata": {},
   "outputs": [
    {
     "data": {
      "text/plain": [
       "sex                 2\n",
       "age                62\n",
       "race                2\n",
       "priors_count       36\n",
       "c_charge_degree     2\n",
       "two_year_recid      2\n",
       "dtype: int64"
      ]
     },
     "execution_count": 12,
     "metadata": {},
     "output_type": "execute_result"
    }
   ],
   "source": [
    "compas['sex'] = (compas['sex'] == 'Male').astype(int) # Male = 1, Female = 0\n",
    "compas['race'] = (compas['race'] == 'Caucasian').astype(int) # Caucasian = 1, African-American = 0\n",
    "compas['c_charge_degree'] = (compas['c_charge_degree'] == 'F').astype(int) # F = 1, M = 0\n",
    "compas.nunique() # Check if there are any other values"
   ]
  },
  {
   "cell_type": "markdown",
   "id": "340518f7-2990-487e-94f5-31cc310618a9",
   "metadata": {},
   "source": [
    "## Base rate"
   ]
  },
  {
   "cell_type": "code",
   "execution_count": 13,
   "id": "8fcb0e79-f917-4924-b670-3d9221bf29da",
   "metadata": {},
   "outputs": [],
   "source": [
    "def base_rate_compas(data):\n",
    "    # by choosing y_pred to be ground truth instead of predictions, we can easily compute the base rate in the data\n",
    "    mf = MetricFrame(\n",
    "        metrics={\"base rate\": selection_rate},\n",
    "        y_true=data[\"two_year_recid\"],  # y_true is ignored\n",
    "        y_pred=data[\"two_year_recid\"],\n",
    "        sensitive_features=data[\"race\"],\n",
    "    )\n",
    "    display(mf.by_group)\n",
    "\n",
    "    # summarize demographic parity as the max difference between groups\n",
    "    print(\"base rate diff: %.2f\" % mf.difference(method=\"between_groups\"))\n",
    "    \n",
    "    \n",
    "    crtr = data['two_year_recid'].sum() / len(data) # class rate\n",
    "    print('Class rate: %.4f' % crtr)\n",
    "    \n",
    "    grtr = data['race'].sum() / len(data) # group rate\n",
    "    print('Group rate: %.4f' % grtr)"
   ]
  },
  {
   "cell_type": "code",
   "execution_count": 14,
   "id": "68e4d0a6-67bd-401f-9163-2e07004f5537",
   "metadata": {},
   "outputs": [
    {
     "data": {
      "text/html": [
       "<div>\n",
       "<style scoped>\n",
       "    .dataframe tbody tr th:only-of-type {\n",
       "        vertical-align: middle;\n",
       "    }\n",
       "\n",
       "    .dataframe tbody tr th {\n",
       "        vertical-align: top;\n",
       "    }\n",
       "\n",
       "    .dataframe thead th {\n",
       "        text-align: right;\n",
       "    }\n",
       "</style>\n",
       "<table border=\"1\" class=\"dataframe\">\n",
       "  <thead>\n",
       "    <tr style=\"text-align: right;\">\n",
       "      <th></th>\n",
       "      <th>base rate</th>\n",
       "    </tr>\n",
       "    <tr>\n",
       "      <th>race</th>\n",
       "      <th></th>\n",
       "    </tr>\n",
       "  </thead>\n",
       "  <tbody>\n",
       "    <tr>\n",
       "      <th>0</th>\n",
       "      <td>0.52315</td>\n",
       "    </tr>\n",
       "    <tr>\n",
       "      <th>1</th>\n",
       "      <td>0.39087</td>\n",
       "    </tr>\n",
       "  </tbody>\n",
       "</table>\n",
       "</div>"
      ],
      "text/plain": [
       "     base rate\n",
       "race          \n",
       "0      0.52315\n",
       "1      0.39087"
      ]
     },
     "metadata": {},
     "output_type": "display_data"
    },
    {
     "name": "stdout",
     "output_type": "stream",
     "text": [
      "base rate diff: 0.13\n",
      "Class rate: 0.4704\n",
      "Group rate: 0.3984\n"
     ]
    }
   ],
   "source": [
    "base_rate_compas(compas)"
   ]
  },
  {
   "cell_type": "markdown",
   "id": "baef0aff-33f4-4895-a144-37d0c64ee0ac",
   "metadata": {},
   "source": [
    "# Data sets"
   ]
  },
  {
   "cell_type": "code",
   "execution_count": 15,
   "id": "d77dfad6-a933-4007-ba21-5ffc0b83953a",
   "metadata": {},
   "outputs": [],
   "source": [
    "# Train test split\n",
    "rs = 0 # Random State\n",
    "\n",
    "trainset, testset = train_test_split(compas, test_size=0.25, random_state=rs)"
   ]
  },
  {
   "cell_type": "code",
   "execution_count": 16,
   "id": "2f148610-e155-49df-ba25-445a1335a241",
   "metadata": {},
   "outputs": [],
   "source": [
    "def get_max():\n",
    "    m = 0\n",
    "    for s in (0, 1):\n",
    "        for c in (0, 1):\n",
    "            data_temp = trainset[(trainset['race'] == s) & (trainset['two_year_recid'] == c)]\n",
    "            if m < len(data_temp):\n",
    "                m = len(data_temp)\n",
    "    return m"
   ]
  },
  {
   "cell_type": "code",
   "execution_count": 17,
   "id": "9e20c209-de7e-402a-9620-303d32de58c1",
   "metadata": {},
   "outputs": [
    {
     "data": {
      "text/html": [
       "<div>\n",
       "<style scoped>\n",
       "    .dataframe tbody tr th:only-of-type {\n",
       "        vertical-align: middle;\n",
       "    }\n",
       "\n",
       "    .dataframe tbody tr th {\n",
       "        vertical-align: top;\n",
       "    }\n",
       "\n",
       "    .dataframe thead th {\n",
       "        text-align: right;\n",
       "    }\n",
       "</style>\n",
       "<table border=\"1\" class=\"dataframe\">\n",
       "  <thead>\n",
       "    <tr style=\"text-align: right;\">\n",
       "      <th></th>\n",
       "      <th>base rate</th>\n",
       "    </tr>\n",
       "    <tr>\n",
       "      <th>race</th>\n",
       "      <th></th>\n",
       "    </tr>\n",
       "  </thead>\n",
       "  <tbody>\n",
       "    <tr>\n",
       "      <th>0</th>\n",
       "      <td>0.496847</td>\n",
       "    </tr>\n",
       "    <tr>\n",
       "      <th>1</th>\n",
       "      <td>0.383302</td>\n",
       "    </tr>\n",
       "  </tbody>\n",
       "</table>\n",
       "</div>"
      ],
      "text/plain": [
       "     base rate\n",
       "race          \n",
       "0     0.496847\n",
       "1     0.383302"
      ]
     },
     "metadata": {},
     "output_type": "display_data"
    },
    {
     "name": "stdout",
     "output_type": "stream",
     "text": [
      "base rate diff: 0.11\n",
      "Class rate: 0.4515\n",
      "Group rate: 0.3992\n"
     ]
    }
   ],
   "source": [
    "base_rate_compas(testset)"
   ]
  },
  {
   "cell_type": "markdown",
   "id": "7300016e-f0f0-401a-a466-58ff9c1fb7cd",
   "metadata": {},
   "source": [
    "## Uncorrected data set"
   ]
  },
  {
   "cell_type": "code",
   "execution_count": 18,
   "id": "0d019447-e779-42d8-899f-c540e2ed22df",
   "metadata": {},
   "outputs": [],
   "source": [
    "data_uncorrected = trainset"
   ]
  },
  {
   "cell_type": "code",
   "execution_count": 19,
   "id": "263dc622-4bf2-4399-a4d1-57a89c5e75a3",
   "metadata": {},
   "outputs": [
    {
     "data": {
      "text/html": [
       "<div>\n",
       "<style scoped>\n",
       "    .dataframe tbody tr th:only-of-type {\n",
       "        vertical-align: middle;\n",
       "    }\n",
       "\n",
       "    .dataframe tbody tr th {\n",
       "        vertical-align: top;\n",
       "    }\n",
       "\n",
       "    .dataframe thead th {\n",
       "        text-align: right;\n",
       "    }\n",
       "</style>\n",
       "<table border=\"1\" class=\"dataframe\">\n",
       "  <thead>\n",
       "    <tr style=\"text-align: right;\">\n",
       "      <th></th>\n",
       "      <th>base rate</th>\n",
       "    </tr>\n",
       "    <tr>\n",
       "      <th>race</th>\n",
       "      <th></th>\n",
       "    </tr>\n",
       "  </thead>\n",
       "  <tbody>\n",
       "    <tr>\n",
       "      <th>0</th>\n",
       "      <td>0.531906</td>\n",
       "    </tr>\n",
       "    <tr>\n",
       "      <th>1</th>\n",
       "      <td>0.393401</td>\n",
       "    </tr>\n",
       "  </tbody>\n",
       "</table>\n",
       "</div>"
      ],
      "text/plain": [
       "     base rate\n",
       "race          \n",
       "0     0.531906\n",
       "1     0.393401"
      ]
     },
     "metadata": {},
     "output_type": "display_data"
    },
    {
     "name": "stdout",
     "output_type": "stream",
     "text": [
      "base rate diff: 0.14\n",
      "Class rate: 0.4768\n",
      "Group rate: 0.3982\n"
     ]
    }
   ],
   "source": [
    "base_rate_compas(data_uncorrected)"
   ]
  },
  {
   "cell_type": "markdown",
   "id": "029d0495-afa0-4e55-8a07-f47279963e46",
   "metadata": {},
   "source": [
    "## Naive oversampling"
   ]
  },
  {
   "cell_type": "code",
   "execution_count": 20,
   "id": "5f32c39b-29f1-48d1-8ce3-501742d2d2d2",
   "metadata": {},
   "outputs": [
    {
     "name": "stdout",
     "output_type": "stream",
     "text": [
      "Empty DataFrame\n",
      "Columns: [sex, age, race, priors_count, c_charge_degree, two_year_recid]\n",
      "Index: []\n"
     ]
    }
   ],
   "source": [
    "empty = trainset[trainset['two_year_recid'] == 3]\n",
    "print(empty)"
   ]
  },
  {
   "cell_type": "code",
   "execution_count": 21,
   "id": "4411f638-2ca2-4eb3-83aa-27200777b9f3",
   "metadata": {},
   "outputs": [],
   "source": [
    "data_naive_oversampling = empty\n",
    "\n",
    "m = get_max()\n",
    "\n",
    "for s in (0, 1):\n",
    "    for c in (0, 1):\n",
    "        data_temp = trainset[(trainset['race'] == s) & (trainset['two_year_recid'] == c)]\n",
    "        while len(data_temp) < m - 100:\n",
    "            data_temp = data_temp.append(data_temp.sample(100))\n",
    "        while len(data_temp) < m:\n",
    "            data_temp = data_temp.append(data_temp.sample())\n",
    "        data_naive_oversampling = data_naive_oversampling.append(data_temp)\n",
    "        \n",
    "data_naive_oversampling = data_naive_oversampling.reset_index(drop=True)"
   ]
  },
  {
   "cell_type": "code",
   "execution_count": 22,
   "id": "7241a7fb-71d7-4d33-bdc6-aa172fc9ddce",
   "metadata": {},
   "outputs": [
    {
     "data": {
      "text/html": [
       "<div>\n",
       "<style scoped>\n",
       "    .dataframe tbody tr th:only-of-type {\n",
       "        vertical-align: middle;\n",
       "    }\n",
       "\n",
       "    .dataframe tbody tr th {\n",
       "        vertical-align: top;\n",
       "    }\n",
       "\n",
       "    .dataframe thead th {\n",
       "        text-align: right;\n",
       "    }\n",
       "</style>\n",
       "<table border=\"1\" class=\"dataframe\">\n",
       "  <thead>\n",
       "    <tr style=\"text-align: right;\">\n",
       "      <th></th>\n",
       "      <th>base rate</th>\n",
       "    </tr>\n",
       "    <tr>\n",
       "      <th>race</th>\n",
       "      <th></th>\n",
       "    </tr>\n",
       "  </thead>\n",
       "  <tbody>\n",
       "    <tr>\n",
       "      <th>0</th>\n",
       "      <td>0.5</td>\n",
       "    </tr>\n",
       "    <tr>\n",
       "      <th>1</th>\n",
       "      <td>0.5</td>\n",
       "    </tr>\n",
       "  </tbody>\n",
       "</table>\n",
       "</div>"
      ],
      "text/plain": [
       "     base rate\n",
       "race          \n",
       "0          0.5\n",
       "1          0.5"
      ]
     },
     "metadata": {},
     "output_type": "display_data"
    },
    {
     "name": "stdout",
     "output_type": "stream",
     "text": [
      "base rate diff: 0.00\n",
      "Class rate: 0.5000\n",
      "Group rate: 0.5000\n"
     ]
    }
   ],
   "source": [
    "base_rate_compas(data_naive_oversampling)"
   ]
  },
  {
   "cell_type": "markdown",
   "id": "a449a446-e2c4-47e4-9966-faf0fcefae88",
   "metadata": {},
   "source": [
    "## Uniform Sampling"
   ]
  },
  {
   "cell_type": "code",
   "execution_count": 23,
   "id": "3cbd652f-9797-4840-a09b-9bf1ddf5696f",
   "metadata": {},
   "outputs": [],
   "source": [
    "data_uniform_sampling = empty\n",
    "\n",
    "for s in (0, 1):\n",
    "    for c in (0, 1):\n",
    "        data_temp = trainset[(trainset['race'] == s) & (trainset['two_year_recid'] == c)]\n",
    "        w = (len(trainset[(trainset['race'] == s)]) * len(trainset[(trainset['two_year_recid'] == c)])) / (len(trainset) * len(data_temp))\n",
    "        size = int(w * len(data_temp))\n",
    "        new = data_temp.sample()\n",
    "        while len(new) < size - 100:\n",
    "            new = new.append(data_temp.sample(100))\n",
    "        while len(new) < size:\n",
    "            new = new.append(data_temp.sample())\n",
    "        # print(len(new))\n",
    "        data_uniform_sampling = data_uniform_sampling.append(new)\n",
    "        \n",
    "data_uniform_sampling = data_uniform_sampling.reset_index(drop=True)"
   ]
  },
  {
   "cell_type": "code",
   "execution_count": 24,
   "id": "e1ddc17c-45ff-4631-b55e-2c462eaf3b6d",
   "metadata": {},
   "outputs": [
    {
     "data": {
      "text/html": [
       "<div>\n",
       "<style scoped>\n",
       "    .dataframe tbody tr th:only-of-type {\n",
       "        vertical-align: middle;\n",
       "    }\n",
       "\n",
       "    .dataframe tbody tr th {\n",
       "        vertical-align: top;\n",
       "    }\n",
       "\n",
       "    .dataframe thead th {\n",
       "        text-align: right;\n",
       "    }\n",
       "</style>\n",
       "<table border=\"1\" class=\"dataframe\">\n",
       "  <thead>\n",
       "    <tr style=\"text-align: right;\">\n",
       "      <th></th>\n",
       "      <th>base rate</th>\n",
       "    </tr>\n",
       "    <tr>\n",
       "      <th>race</th>\n",
       "      <th></th>\n",
       "    </tr>\n",
       "  </thead>\n",
       "  <tbody>\n",
       "    <tr>\n",
       "      <th>0</th>\n",
       "      <td>0.47669</td>\n",
       "    </tr>\n",
       "    <tr>\n",
       "      <th>1</th>\n",
       "      <td>0.476825</td>\n",
       "    </tr>\n",
       "  </tbody>\n",
       "</table>\n",
       "</div>"
      ],
      "text/plain": [
       "     base rate\n",
       "race          \n",
       "0      0.47669\n",
       "1     0.476825"
      ]
     },
     "metadata": {},
     "output_type": "display_data"
    },
    {
     "name": "stdout",
     "output_type": "stream",
     "text": [
      "base rate diff: 0.00\n",
      "Class rate: 0.4767\n",
      "Group rate: 0.3981\n"
     ]
    }
   ],
   "source": [
    "base_rate_compas(data_uniform_sampling)"
   ]
  },
  {
   "cell_type": "markdown",
   "id": "e81d06bc-ce14-44fe-ace5-1ca377ff60ea",
   "metadata": {},
   "source": [
    "## Fair-SMOTE"
   ]
  },
  {
   "cell_type": "code",
   "execution_count": 25,
   "id": "f21173de-5d58-4177-955b-2536fcc8f911",
   "metadata": {},
   "outputs": [],
   "source": [
    "data_fair_smote = empty\n",
    "\n",
    "m = get_max()\n",
    "\n",
    "cr, f = 0.8, 0.8\n",
    "probab = [cr+(1-cr)/3, (1-cr)/3, (1-cr)/3]\n",
    "        \n",
    "def get_neighbors(data, nbrs):\n",
    "    parent = data.sample()\n",
    "    arr1 = nbrs.kneighbors(parent, return_distance=False)[0]\n",
    "    arr2 = [a for a in arr1 if (a != parent.index)]\n",
    "\n",
    "    neigh1 = data.iloc[arr2[0]]\n",
    "    neigh2 = data.iloc[arr2[1]]\n",
    "    return parent, neigh1, neigh2\n",
    "            \n",
    "for s in (0, 1):\n",
    "    for c in (0, 1):\n",
    "        data_temp = trainset[(trainset['race'] == s) & (trainset['two_year_recid'] == c)].reset_index(drop=True)\n",
    "        \n",
    "        knn = NearestNeighbors(n_neighbors=3).fit(data_temp)\n",
    "\n",
    "        while len(data_temp) < m:\n",
    "            p, n1, n2 = get_neighbors(data_temp, knn)\n",
    "    \n",
    "            new_row = data_temp[data_temp['two_year_recid'] == 3]\n",
    "            \n",
    "            for col in p.columns:\n",
    "                if col in ['age', 'prior_counts']:\n",
    "                    # print(int(p[col] + f * (n1[col] - n2[col])))\n",
    "                    # print(int(p[col]),int(n1[col]), int(n2[col]))\n",
    "                    val = int(p[col] + f * (n1[col] - n2[col]))\n",
    "                    arr = [val, p[col]]\n",
    "                    pr = [cr, (1 - cr)]\n",
    "                    new_row[col] = [np.random.choice(a=arr, p=pr)]\n",
    "                else:\n",
    "                    arr = [int(p[col]), int(n1[col]), int(n2[col])]\n",
    "                    new_row[col] = [np.random.choice(a=arr, p=probab)]\n",
    "            data_temp = data_temp.append(new_row)\n",
    "            # print('A row to append:\\n', new_row, '\\n')\n",
    "            \n",
    "        data_fair_smote = data_fair_smote.append(data_temp)\n",
    "\n",
    "data_fair_smote = data_fair_smote.reset_index(drop=True)"
   ]
  },
  {
   "cell_type": "code",
   "execution_count": 26,
   "id": "a54f1862-b077-49a8-a116-614a92079a64",
   "metadata": {},
   "outputs": [
    {
     "data": {
      "text/html": [
       "<div>\n",
       "<style scoped>\n",
       "    .dataframe tbody tr th:only-of-type {\n",
       "        vertical-align: middle;\n",
       "    }\n",
       "\n",
       "    .dataframe tbody tr th {\n",
       "        vertical-align: top;\n",
       "    }\n",
       "\n",
       "    .dataframe thead th {\n",
       "        text-align: right;\n",
       "    }\n",
       "</style>\n",
       "<table border=\"1\" class=\"dataframe\">\n",
       "  <thead>\n",
       "    <tr style=\"text-align: right;\">\n",
       "      <th></th>\n",
       "      <th>base rate</th>\n",
       "    </tr>\n",
       "    <tr>\n",
       "      <th>race</th>\n",
       "      <th></th>\n",
       "    </tr>\n",
       "  </thead>\n",
       "  <tbody>\n",
       "    <tr>\n",
       "      <th>0</th>\n",
       "      <td>0.5</td>\n",
       "    </tr>\n",
       "    <tr>\n",
       "      <th>1</th>\n",
       "      <td>0.5</td>\n",
       "    </tr>\n",
       "  </tbody>\n",
       "</table>\n",
       "</div>"
      ],
      "text/plain": [
       "     base rate\n",
       "race          \n",
       "0          0.5\n",
       "1          0.5"
      ]
     },
     "metadata": {},
     "output_type": "display_data"
    },
    {
     "name": "stdout",
     "output_type": "stream",
     "text": [
      "base rate diff: 0.00\n",
      "Class rate: 0.5000\n",
      "Group rate: 0.5000\n"
     ]
    }
   ],
   "source": [
    "base_rate_compas(data_fair_smote)"
   ]
  },
  {
   "cell_type": "markdown",
   "id": "9f89c9cb-41ef-4723-9daa-baaa19bd22fd",
   "metadata": {},
   "source": [
    "# Model training"
   ]
  },
  {
   "cell_type": "markdown",
   "id": "a5711716-f1a0-482e-b1e3-8da4e21b41e1",
   "metadata": {},
   "source": [
    "## Test set"
   ]
  },
  {
   "cell_type": "code",
   "execution_count": 27,
   "id": "bd6a3212-e2dd-4dd3-b184-0ee1410181af",
   "metadata": {},
   "outputs": [],
   "source": [
    "y_test = testset['two_year_recid']\n",
    "X_test = testset.drop(columns=['two_year_recid'])"
   ]
  },
  {
   "cell_type": "markdown",
   "id": "ac674d82-ee80-4336-9702-4a83d9a59709",
   "metadata": {},
   "source": [
    "## Functions"
   ]
  },
  {
   "cell_type": "code",
   "execution_count": 28,
   "id": "49244fc5-e0a9-40dd-a9ad-1aa05d9772d1",
   "metadata": {},
   "outputs": [],
   "source": [
    "def lr_metrics(traindataset):\n",
    "    '''\n",
    "    Logistic regression model metrics\n",
    "    '''\n",
    "    \n",
    "    y_train = traindataset['two_year_recid']\n",
    "    X_train = traindataset.drop(columns=['two_year_recid'])\n",
    "    \n",
    "    modelRG = RidgeClassifier(random_state=rs) # Logistic Regression Ridge\n",
    "    \n",
    "    modelRG.fit(X_train, y_train)\n",
    "    \n",
    "    y_pred = modelRG.predict(X_test)\n",
    "    y_pp = modelRG.decision_function(X_test)\n",
    "    \n",
    "    cm = confusion_matrix(y_test, y_pred)\n",
    "\n",
    "    cr = classification_report(y_test, y_pred)\n",
    "    print(cr)\n",
    "    dis = ConfusionMatrixDisplay(cm)\n",
    "    dis.plot(cmap='cividis', values_format='.0f')\n",
    "    \n",
    "    auc = roc_auc_score(y_test, y_pred)\n",
    "    print('AUC score = %.2f' % auc)\n",
    "\n",
    "    # compute metrics by group\n",
    "    mf = MetricFrame(\n",
    "        metrics={\"selection rate (compas)\": selection_rate},\n",
    "        y_true=y_test,  # is ignored\n",
    "        y_pred=y_pred,\n",
    "        sensitive_features=X_test[\"race\"],\n",
    "    )\n",
    "\n",
    "    # print results\n",
    "    display(mf.by_group)\n",
    "    print(\"Overall selection rate: %.2f\" % mf.overall)\n",
    "\n",
    "    # compute demographic parity as the max difference between groups\n",
    "    print(\"demographic parity difference: %.2f\" % mf.difference(method=\"between_groups\"))\n",
    "\n",
    "    # compute metrics\n",
    "    mf = MetricFrame(\n",
    "        metrics={\n",
    "            \"false positive rate\": false_positive_rate,\n",
    "            \"false negative rate\": false_negative_rate,\n",
    "        },\n",
    "        y_true=y_test,\n",
    "        y_pred=y_pred,\n",
    "        sensitive_features=X_test[[\"race\"]],\n",
    "    )\n",
    "    display(mf.by_group)\n",
    "\n",
    "    # print differences\n",
    "    for i in mf.difference(\"between_groups\").iteritems():\n",
    "        print(\"%s diff: %.2f\" % i)\n",
    "\n",
    "    # alternatively: summarize equalized odds in one metric (which is the max of fpr diff and fnr diff)\n",
    "    dpd = equalized_odds_difference(\n",
    "        y_test,\n",
    "        y_pred,\n",
    "        sensitive_features=X_test[\"race\"],\n",
    "        method=\"between_groups\",\n",
    "    )\n",
    "    print(\"equalized odds diff: %.2f\" % dpd)\n",
    "    \n",
    "    \n",
    "    \n",
    "def print_calib(traindataset, title):\n",
    "    '''\n",
    "    Logistic regression calibration\n",
    "    '''\n",
    "    \n",
    "    y_train = traindataset['two_year_recid']\n",
    "    X_train = traindataset.drop(columns=['two_year_recid'])\n",
    "    \n",
    "    modelRG = RidgeClassifier(random_state=rs) # Logistic Regression Ridge\n",
    "    \n",
    "    modelRG.fit(X_train, y_train)\n",
    "    \n",
    "    y_pp = modelRG.decision_function(X_test)\n",
    "    \n",
    "    plt.plot([0, 1], [0, 1], \"k:\")\n",
    "    for race in [0, 1]:\n",
    "        prob_true, prob_pred = calibration_curve(\n",
    "            y_true=y_test[X_test[\"race\"] == race],\n",
    "            y_prob=y_pp[X_test[\"race\"] == race],\n",
    "            n_bins=20,\n",
    "            normalize=True,\n",
    "        )\n",
    "        plt.plot(prob_pred, prob_true)\n",
    "    plt.title(\"Calibration Curves \" + title)\n",
    "    plt.xlabel(\"Mean Predicted Value\")\n",
    "    plt.ylabel(\"Proportion of Positives\")\n",
    "    plt.legend(['Perfectly calibrated', 'African-American', 'Caucasian'])\n",
    "    plt.show()"
   ]
  },
  {
   "cell_type": "markdown",
   "id": "f46b28b0-f04a-40ec-ab8c-5513ede7f515",
   "metadata": {},
   "source": [
    "## Metrics per data set"
   ]
  },
  {
   "cell_type": "markdown",
   "id": "146fed31-7d94-4ec6-b3fc-5d055ad13cf5",
   "metadata": {},
   "source": [
    "### Uncorrected Metrics"
   ]
  },
  {
   "cell_type": "code",
   "execution_count": 29,
   "id": "a907a787-1480-4460-a547-c60a3fb9cf19",
   "metadata": {},
   "outputs": [
    {
     "name": "stdout",
     "output_type": "stream",
     "text": [
      "              precision    recall  f1-score   support\n",
      "\n",
      "           0       0.68      0.68      0.68       724\n",
      "           1       0.61      0.61      0.61       596\n",
      "\n",
      "    accuracy                           0.65      1320\n",
      "   macro avg       0.64      0.64      0.64      1320\n",
      "weighted avg       0.65      0.65      0.65      1320\n",
      "\n",
      "AUC score = 0.64\n"
     ]
    },
    {
     "data": {
      "text/html": [
       "<div>\n",
       "<style scoped>\n",
       "    .dataframe tbody tr th:only-of-type {\n",
       "        vertical-align: middle;\n",
       "    }\n",
       "\n",
       "    .dataframe tbody tr th {\n",
       "        vertical-align: top;\n",
       "    }\n",
       "\n",
       "    .dataframe thead th {\n",
       "        text-align: right;\n",
       "    }\n",
       "</style>\n",
       "<table border=\"1\" class=\"dataframe\">\n",
       "  <thead>\n",
       "    <tr style=\"text-align: right;\">\n",
       "      <th></th>\n",
       "      <th>selection rate (compas)</th>\n",
       "    </tr>\n",
       "    <tr>\n",
       "      <th>race</th>\n",
       "      <th></th>\n",
       "    </tr>\n",
       "  </thead>\n",
       "  <tbody>\n",
       "    <tr>\n",
       "      <th>0</th>\n",
       "      <td>0.578815</td>\n",
       "    </tr>\n",
       "    <tr>\n",
       "      <th>1</th>\n",
       "      <td>0.254269</td>\n",
       "    </tr>\n",
       "  </tbody>\n",
       "</table>\n",
       "</div>"
      ],
      "text/plain": [
       "     selection rate (compas)\n",
       "race                        \n",
       "0                   0.578815\n",
       "1                   0.254269"
      ]
     },
     "metadata": {},
     "output_type": "display_data"
    },
    {
     "name": "stdout",
     "output_type": "stream",
     "text": [
      "Overall selection rate: 0.45\n",
      "demographic parity difference: 0.32\n"
     ]
    },
    {
     "data": {
      "text/html": [
       "<div>\n",
       "<style scoped>\n",
       "    .dataframe tbody tr th:only-of-type {\n",
       "        vertical-align: middle;\n",
       "    }\n",
       "\n",
       "    .dataframe tbody tr th {\n",
       "        vertical-align: top;\n",
       "    }\n",
       "\n",
       "    .dataframe thead th {\n",
       "        text-align: right;\n",
       "    }\n",
       "</style>\n",
       "<table border=\"1\" class=\"dataframe\">\n",
       "  <thead>\n",
       "    <tr style=\"text-align: right;\">\n",
       "      <th></th>\n",
       "      <th>false positive rate</th>\n",
       "      <th>false negative rate</th>\n",
       "    </tr>\n",
       "    <tr>\n",
       "      <th>race</th>\n",
       "      <th></th>\n",
       "      <th></th>\n",
       "    </tr>\n",
       "  </thead>\n",
       "  <tbody>\n",
       "    <tr>\n",
       "      <th>0</th>\n",
       "      <td>0.431078</td>\n",
       "      <td>0.271574</td>\n",
       "    </tr>\n",
       "    <tr>\n",
       "      <th>1</th>\n",
       "      <td>0.184615</td>\n",
       "      <td>0.633663</td>\n",
       "    </tr>\n",
       "  </tbody>\n",
       "</table>\n",
       "</div>"
      ],
      "text/plain": [
       "     false positive rate false negative rate\n",
       "race                                        \n",
       "0               0.431078            0.271574\n",
       "1               0.184615            0.633663"
      ]
     },
     "metadata": {},
     "output_type": "display_data"
    },
    {
     "name": "stdout",
     "output_type": "stream",
     "text": [
      "false positive rate diff: 0.25\n",
      "false negative rate diff: 0.36\n",
      "equalized odds diff: 0.36\n"
     ]
    },
    {
     "data": {
      "image/png": "[encoded data removed]",
      "text/plain": [
       "<Figure size 432x288 with 2 Axes>"
      ]
     },
     "metadata": {
      "needs_background": "light"
     },
     "output_type": "display_data"
    }
   ],
   "source": [
    "lr_metrics(data_uncorrected)"
   ]
  },
  {
   "cell_type": "code",
   "execution_count": 30,
   "id": "172cf5d7-d73d-425b-85e6-7b33e4f355af",
   "metadata": {},
   "outputs": [],
   "source": [
    "# print_calib(data_uncorrected)"
   ]
  },
  {
   "cell_type": "markdown",
   "id": "fa95ec80-aaa1-48c1-b0eb-04fd2c2028a9",
   "metadata": {},
   "source": [
    "### Naive Oversampling Metrics"
   ]
  },
  {
   "cell_type": "code",
   "execution_count": 31,
   "id": "822dc347-6ebb-4546-b77f-d7ee12f679ae",
   "metadata": {},
   "outputs": [
    {
     "name": "stdout",
     "output_type": "stream",
     "text": [
      "              precision    recall  f1-score   support\n",
      "\n",
      "           0       0.69      0.64      0.67       724\n",
      "           1       0.60      0.65      0.62       596\n",
      "\n",
      "    accuracy                           0.65      1320\n",
      "   macro avg       0.65      0.65      0.64      1320\n",
      "weighted avg       0.65      0.65      0.65      1320\n",
      "\n",
      "AUC score = 0.65\n"
     ]
    },
    {
     "data": {
      "text/html": [
       "<div>\n",
       "<style scoped>\n",
       "    .dataframe tbody tr th:only-of-type {\n",
       "        vertical-align: middle;\n",
       "    }\n",
       "\n",
       "    .dataframe tbody tr th {\n",
       "        vertical-align: top;\n",
       "    }\n",
       "\n",
       "    .dataframe thead th {\n",
       "        text-align: right;\n",
       "    }\n",
       "</style>\n",
       "<table border=\"1\" class=\"dataframe\">\n",
       "  <thead>\n",
       "    <tr style=\"text-align: right;\">\n",
       "      <th></th>\n",
       "      <th>selection rate (compas)</th>\n",
       "    </tr>\n",
       "    <tr>\n",
       "      <th>race</th>\n",
       "      <th></th>\n",
       "    </tr>\n",
       "  </thead>\n",
       "  <tbody>\n",
       "    <tr>\n",
       "      <th>0</th>\n",
       "      <td>0.508197</td>\n",
       "    </tr>\n",
       "    <tr>\n",
       "      <th>1</th>\n",
       "      <td>0.459203</td>\n",
       "    </tr>\n",
       "  </tbody>\n",
       "</table>\n",
       "</div>"
      ],
      "text/plain": [
       "     selection rate (compas)\n",
       "race                        \n",
       "0                   0.508197\n",
       "1                   0.459203"
      ]
     },
     "metadata": {},
     "output_type": "display_data"
    },
    {
     "name": "stdout",
     "output_type": "stream",
     "text": [
      "Overall selection rate: 0.49\n",
      "demographic parity difference: 0.05\n"
     ]
    },
    {
     "data": {
      "text/html": [
       "<div>\n",
       "<style scoped>\n",
       "    .dataframe tbody tr th:only-of-type {\n",
       "        vertical-align: middle;\n",
       "    }\n",
       "\n",
       "    .dataframe tbody tr th {\n",
       "        vertical-align: top;\n",
       "    }\n",
       "\n",
       "    .dataframe thead th {\n",
       "        text-align: right;\n",
       "    }\n",
       "</style>\n",
       "<table border=\"1\" class=\"dataframe\">\n",
       "  <thead>\n",
       "    <tr style=\"text-align: right;\">\n",
       "      <th></th>\n",
       "      <th>false positive rate</th>\n",
       "      <th>false negative rate</th>\n",
       "    </tr>\n",
       "    <tr>\n",
       "      <th>race</th>\n",
       "      <th></th>\n",
       "      <th></th>\n",
       "    </tr>\n",
       "  </thead>\n",
       "  <tbody>\n",
       "    <tr>\n",
       "      <th>0</th>\n",
       "      <td>0.343358</td>\n",
       "      <td>0.324873</td>\n",
       "    </tr>\n",
       "    <tr>\n",
       "      <th>1</th>\n",
       "      <td>0.372308</td>\n",
       "      <td>0.40099</td>\n",
       "    </tr>\n",
       "  </tbody>\n",
       "</table>\n",
       "</div>"
      ],
      "text/plain": [
       "     false positive rate false negative rate\n",
       "race                                        \n",
       "0               0.343358            0.324873\n",
       "1               0.372308             0.40099"
      ]
     },
     "metadata": {},
     "output_type": "display_data"
    },
    {
     "name": "stdout",
     "output_type": "stream",
     "text": [
      "false positive rate diff: 0.03\n",
      "false negative rate diff: 0.08\n",
      "equalized odds diff: 0.08\n"
     ]
    },
    {
     "data": {
      "image/png": "[encoded data removed]",
      "text/plain": [
       "<Figure size 432x288 with 2 Axes>"
      ]
     },
     "metadata": {
      "needs_background": "light"
     },
     "output_type": "display_data"
    }
   ],
   "source": [
    "lr_metrics(data_naive_oversampling)"
   ]
  },
  {
   "cell_type": "code",
   "execution_count": 32,
   "id": "cab2ec09-edf1-411e-ae77-4cd2766da9f1",
   "metadata": {},
   "outputs": [],
   "source": [
    "# print_calib(data_naive_oversampling)"
   ]
  },
  {
   "cell_type": "markdown",
   "id": "c3975cc8-0d7a-43e6-b2f3-239c6abf3209",
   "metadata": {},
   "source": [
    "### Uniform Sampling Metrics"
   ]
  },
  {
   "cell_type": "code",
   "execution_count": 33,
   "id": "1b09d2eb-fe5f-4b30-9aa9-86b5ae31f50a",
   "metadata": {},
   "outputs": [
    {
     "name": "stdout",
     "output_type": "stream",
     "text": [
      "              precision    recall  f1-score   support\n",
      "\n",
      "           0       0.67      0.73      0.70       724\n",
      "           1       0.63      0.56      0.59       596\n",
      "\n",
      "    accuracy                           0.65      1320\n",
      "   macro avg       0.65      0.64      0.64      1320\n",
      "weighted avg       0.65      0.65      0.65      1320\n",
      "\n",
      "AUC score = 0.64\n"
     ]
    },
    {
     "data": {
      "text/html": [
       "<div>\n",
       "<style scoped>\n",
       "    .dataframe tbody tr th:only-of-type {\n",
       "        vertical-align: middle;\n",
       "    }\n",
       "\n",
       "    .dataframe tbody tr th {\n",
       "        vertical-align: top;\n",
       "    }\n",
       "\n",
       "    .dataframe thead th {\n",
       "        text-align: right;\n",
       "    }\n",
       "</style>\n",
       "<table border=\"1\" class=\"dataframe\">\n",
       "  <thead>\n",
       "    <tr style=\"text-align: right;\">\n",
       "      <th></th>\n",
       "      <th>selection rate (compas)</th>\n",
       "    </tr>\n",
       "    <tr>\n",
       "      <th>race</th>\n",
       "      <th></th>\n",
       "    </tr>\n",
       "  </thead>\n",
       "  <tbody>\n",
       "    <tr>\n",
       "      <th>0</th>\n",
       "      <td>0.395965</td>\n",
       "    </tr>\n",
       "    <tr>\n",
       "      <th>1</th>\n",
       "      <td>0.404175</td>\n",
       "    </tr>\n",
       "  </tbody>\n",
       "</table>\n",
       "</div>"
      ],
      "text/plain": [
       "     selection rate (compas)\n",
       "race                        \n",
       "0                   0.395965\n",
       "1                   0.404175"
      ]
     },
     "metadata": {},
     "output_type": "display_data"
    },
    {
     "name": "stdout",
     "output_type": "stream",
     "text": [
      "Overall selection rate: 0.40\n",
      "demographic parity difference: 0.01\n"
     ]
    },
    {
     "data": {
      "text/html": [
       "<div>\n",
       "<style scoped>\n",
       "    .dataframe tbody tr th:only-of-type {\n",
       "        vertical-align: middle;\n",
       "    }\n",
       "\n",
       "    .dataframe tbody tr th {\n",
       "        vertical-align: top;\n",
       "    }\n",
       "\n",
       "    .dataframe thead th {\n",
       "        text-align: right;\n",
       "    }\n",
       "</style>\n",
       "<table border=\"1\" class=\"dataframe\">\n",
       "  <thead>\n",
       "    <tr style=\"text-align: right;\">\n",
       "      <th></th>\n",
       "      <th>false positive rate</th>\n",
       "      <th>false negative rate</th>\n",
       "    </tr>\n",
       "    <tr>\n",
       "      <th>race</th>\n",
       "      <th></th>\n",
       "      <th></th>\n",
       "    </tr>\n",
       "  </thead>\n",
       "  <tbody>\n",
       "    <tr>\n",
       "      <th>0</th>\n",
       "      <td>0.230576</td>\n",
       "      <td>0.436548</td>\n",
       "    </tr>\n",
       "    <tr>\n",
       "      <th>1</th>\n",
       "      <td>0.32</td>\n",
       "      <td>0.460396</td>\n",
       "    </tr>\n",
       "  </tbody>\n",
       "</table>\n",
       "</div>"
      ],
      "text/plain": [
       "     false positive rate false negative rate\n",
       "race                                        \n",
       "0               0.230576            0.436548\n",
       "1                   0.32            0.460396"
      ]
     },
     "metadata": {},
     "output_type": "display_data"
    },
    {
     "name": "stdout",
     "output_type": "stream",
     "text": [
      "false positive rate diff: 0.09\n",
      "false negative rate diff: 0.02\n",
      "equalized odds diff: 0.09\n"
     ]
    },
    {
     "data": {
      "image/png": "[encoded data removed]",
      "text/plain": [
       "<Figure size 432x288 with 2 Axes>"
      ]
     },
     "metadata": {
      "needs_background": "light"
     },
     "output_type": "display_data"
    }
   ],
   "source": [
    "lr_metrics(data_uniform_sampling)"
   ]
  },
  {
   "cell_type": "code",
   "execution_count": 34,
   "id": "55e5fa2c-b42d-42b5-8848-8227b7b463d2",
   "metadata": {},
   "outputs": [],
   "source": [
    "# print_calib(data_uniform_sampling)"
   ]
  },
  {
   "cell_type": "markdown",
   "id": "19526a78-4fc7-4faa-a079-4f58fda294e4",
   "metadata": {},
   "source": [
    "### Fair-SMOTE Metrics"
   ]
  },
  {
   "cell_type": "code",
   "execution_count": 35,
   "id": "31306f6f-cba5-4ead-b644-b9e8dfb601f4",
   "metadata": {},
   "outputs": [
    {
     "name": "stdout",
     "output_type": "stream",
     "text": [
      "              precision    recall  f1-score   support\n",
      "\n",
      "           0       0.69      0.67      0.68       724\n",
      "           1       0.61      0.63      0.62       596\n",
      "\n",
      "    accuracy                           0.65      1320\n",
      "   macro avg       0.65      0.65      0.65      1320\n",
      "weighted avg       0.65      0.65      0.65      1320\n",
      "\n",
      "AUC score = 0.65\n"
     ]
    },
    {
     "data": {
      "text/html": [
       "<div>\n",
       "<style scoped>\n",
       "    .dataframe tbody tr th:only-of-type {\n",
       "        vertical-align: middle;\n",
       "    }\n",
       "\n",
       "    .dataframe tbody tr th {\n",
       "        vertical-align: top;\n",
       "    }\n",
       "\n",
       "    .dataframe thead th {\n",
       "        text-align: right;\n",
       "    }\n",
       "</style>\n",
       "<table border=\"1\" class=\"dataframe\">\n",
       "  <thead>\n",
       "    <tr style=\"text-align: right;\">\n",
       "      <th></th>\n",
       "      <th>selection rate (compas)</th>\n",
       "    </tr>\n",
       "    <tr>\n",
       "      <th>race</th>\n",
       "      <th></th>\n",
       "    </tr>\n",
       "  </thead>\n",
       "  <tbody>\n",
       "    <tr>\n",
       "      <th>0</th>\n",
       "      <td>0.467844</td>\n",
       "    </tr>\n",
       "    <tr>\n",
       "      <th>1</th>\n",
       "      <td>0.455408</td>\n",
       "    </tr>\n",
       "  </tbody>\n",
       "</table>\n",
       "</div>"
      ],
      "text/plain": [
       "     selection rate (compas)\n",
       "race                        \n",
       "0                   0.467844\n",
       "1                   0.455408"
      ]
     },
     "metadata": {},
     "output_type": "display_data"
    },
    {
     "name": "stdout",
     "output_type": "stream",
     "text": [
      "Overall selection rate: 0.46\n",
      "demographic parity difference: 0.01\n"
     ]
    },
    {
     "data": {
      "text/html": [
       "<div>\n",
       "<style scoped>\n",
       "    .dataframe tbody tr th:only-of-type {\n",
       "        vertical-align: middle;\n",
       "    }\n",
       "\n",
       "    .dataframe tbody tr th {\n",
       "        vertical-align: top;\n",
       "    }\n",
       "\n",
       "    .dataframe thead th {\n",
       "        text-align: right;\n",
       "    }\n",
       "</style>\n",
       "<table border=\"1\" class=\"dataframe\">\n",
       "  <thead>\n",
       "    <tr style=\"text-align: right;\">\n",
       "      <th></th>\n",
       "      <th>false positive rate</th>\n",
       "      <th>false negative rate</th>\n",
       "    </tr>\n",
       "    <tr>\n",
       "      <th>race</th>\n",
       "      <th></th>\n",
       "      <th></th>\n",
       "    </tr>\n",
       "  </thead>\n",
       "  <tbody>\n",
       "    <tr>\n",
       "      <th>0</th>\n",
       "      <td>0.293233</td>\n",
       "      <td>0.35533</td>\n",
       "    </tr>\n",
       "    <tr>\n",
       "      <th>1</th>\n",
       "      <td>0.369231</td>\n",
       "      <td>0.405941</td>\n",
       "    </tr>\n",
       "  </tbody>\n",
       "</table>\n",
       "</div>"
      ],
      "text/plain": [
       "     false positive rate false negative rate\n",
       "race                                        \n",
       "0               0.293233             0.35533\n",
       "1               0.369231            0.405941"
      ]
     },
     "metadata": {},
     "output_type": "display_data"
    },
    {
     "name": "stdout",
     "output_type": "stream",
     "text": [
      "false positive rate diff: 0.08\n",
      "false negative rate diff: 0.05\n",
      "equalized odds diff: 0.08\n"
     ]
    },
    {
     "data": {
      "image/png": "[encoded data removed]",
      "text/plain": [
       "<Figure size 432x288 with 2 Axes>"
      ]
     },
     "metadata": {
      "needs_background": "light"
     },
     "output_type": "display_data"
    }
   ],
   "source": [
    "lr_metrics(data_fair_smote)"
   ]
  },
  {
   "cell_type": "code",
   "execution_count": 36,
   "id": "5ac9e8cd-de8c-4b69-a410-16d47bf8331c",
   "metadata": {},
   "outputs": [],
   "source": [
    "# print_calib(data_fair_smote)"
   ]
  },
  {
   "cell_type": "markdown",
   "id": "db52cf7d-8c5e-4507-9537-3698a65ca8df",
   "metadata": {},
   "source": [
    "## Calibration"
   ]
  },
  {
   "cell_type": "code",
   "execution_count": 37,
   "id": "e465bf3a-865c-437b-b4d7-45fc1eab1a89",
   "metadata": {},
   "outputs": [
    {
     "data": {
      "image/png": "[encoded data removed]",
      "text/plain": [
       "<Figure size 432x288 with 1 Axes>"
      ]
     },
     "metadata": {
      "needs_background": "light"
     },
     "output_type": "display_data"
    },
    {
     "data": {
      "image/png": "[encoded data removed]",
      "text/plain": [
       "<Figure size 432x288 with 1 Axes>"
      ]
     },
     "metadata": {
      "needs_background": "light"
     },
     "output_type": "display_data"
    },
    {
     "data": {
      "image/png": "[encoded data removed]",
      "text/plain": [
       "<Figure size 432x288 with 1 Axes>"
      ]
     },
     "metadata": {
      "needs_background": "light"
     },
     "output_type": "display_data"
    },
    {
     "data": {
      "image/png": "[encoded data removed]",
      "text/plain": [
       "<Figure size 432x288 with 1 Axes>"
      ]
     },
     "metadata": {
      "needs_background": "light"
     },
     "output_type": "display_data"
    }
   ],
   "source": [
    "print_calib(data_uncorrected, 'COMPAS Uncorrected')\n",
    "print_calib(data_naive_oversampling, 'COMPAS Naive Oversampling')\n",
    "print_calib(data_uniform_sampling, 'COMPAS Uniform Sampling')\n",
    "print_calib(data_fair_smote, 'COMPAS Fair-SMOTE')"
   ]
  },
  {
   "cell_type": "code",
   "execution_count": null,
   "id": "a73e4e76-63c2-404b-969c-2e768f1888f6",
   "metadata": {},
   "outputs": [],
   "source": []
  }
 ],
 "metadata": {
  "kernelspec": {
   "display_name": "Python 3 (ipykernel)",
   "language": "python",
   "name": "python3"
  },
  "language_info": {
   "codemirror_mode": {
    "name": "ipython",
    "version": 3
   },
   "file_extension": ".py",
   "mimetype": "text/x-python",
   "name": "python",
   "nbconvert_exporter": "python",
   "pygments_lexer": "ipython3",
   "version": "3.9.7"
  }
 },
 "nbformat": 4,
 "nbformat_minor": 5
}
